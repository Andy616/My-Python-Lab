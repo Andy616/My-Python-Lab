{
 "cells": [
  {
   "cell_type": "code",
   "execution_count": 1,
   "metadata": {},
   "outputs": [],
   "source": [
    "%matplotlib inline\n",
    "\n",
    "import numpy as np\n",
    "import matplotlib.pyplot as plt"
   ]
  },
  {
   "cell_type": "code",
   "execution_count": 2,
   "metadata": {},
   "outputs": [
    {
     "name": "stderr",
     "output_type": "stream",
     "text": [
      "E:\\Anaconda\\lib\\site-packages\\h5py\\__init__.py:36: FutureWarning: Conversion of the second argument of issubdtype from `float` to `np.floating` is deprecated. In future, it will be treated as `np.float64 == np.dtype(float).type`.\n",
      "  from ._conv import register_converters as _register_converters\n",
      "Using TensorFlow backend.\n"
     ]
    }
   ],
   "source": [
    "from keras.datasets import mnist\n",
    "\n",
    "(x_train0, y_train0), (x_test0, y_test0) = mnist.load_data()"
   ]
  },
  {
   "cell_type": "code",
   "execution_count": 3,
   "metadata": {},
   "outputs": [],
   "source": [
    "from keras.utils import np_utils\n",
    "\n",
    "y_train = np_utils.to_categorical(y_train0,10)\n",
    "y_test = np_utils.to_categorical(y_test0,10)\n",
    "\n",
    "x_train = x_train0/255\n",
    "x_test = x_test0/255\n",
    "\n",
    "x_train = x_train.reshape(60000,28,28,1)\n",
    "x_test = x_test.reshape(10000,28,28,1)"
   ]
  },
  {
   "cell_type": "code",
   "execution_count": 4,
   "metadata": {},
   "outputs": [],
   "source": [
    "from keras.layers import Dense,Activation,Flatten\n",
    "from keras.models import Sequential\n",
    "from keras.layers import Conv2D,MaxPool2D\n",
    "from keras import optimizers"
   ]
  },
  {
   "cell_type": "code",
   "execution_count": 5,
   "metadata": {},
   "outputs": [],
   "source": [
    "model = Sequential()"
   ]
  },
  {
   "cell_type": "code",
   "execution_count": 6,
   "metadata": {},
   "outputs": [],
   "source": [
    "model.add(Conv2D(32,(5,5),padding='same',input_shape=(28,28,1)))\n",
    "model.add(Activation('relu'))\n",
    "model.add(MaxPool2D(pool_size=(2, 2)))\n",
    "\n",
    "model.add(Conv2D(32,(5,5),padding='same'))\n",
    "model.add(Activation('relu'))\n",
    "model.add(MaxPool2D(pool_size=(2, 2)))\n",
    "\n",
    "model.add(Conv2D(64,(3,3),padding='same'))\n",
    "model.add(Activation('relu'))\n",
    "model.add(MaxPool2D(pool_size=(2, 2)))\n",
    "\n",
    "model.add(Conv2D(64,(3,3),padding='same'))\n",
    "model.add(Activation('relu'))\n",
    "#model.add(MaxPool2D(pool_size=(2, 2)))\n",
    "\n",
    "\n",
    "model.add(Flatten())\n",
    "model.add(Dense(128))\n",
    "model.add(Activation('relu'))\n",
    "\n",
    "model.add(Dense(10))\n",
    "model.add(Activation('softmax'))"
   ]
  },
  {
   "cell_type": "code",
   "execution_count": 7,
   "metadata": {},
   "outputs": [
    {
     "name": "stdout",
     "output_type": "stream",
     "text": [
      "_________________________________________________________________\n",
      "Layer (type)                 Output Shape              Param #   \n",
      "=================================================================\n",
      "conv2d_1 (Conv2D)            (None, 28, 28, 32)        832       \n",
      "_________________________________________________________________\n",
      "activation_1 (Activation)    (None, 28, 28, 32)        0         \n",
      "_________________________________________________________________\n",
      "max_pooling2d_1 (MaxPooling2 (None, 14, 14, 32)        0         \n",
      "_________________________________________________________________\n",
      "conv2d_2 (Conv2D)            (None, 14, 14, 32)        25632     \n",
      "_________________________________________________________________\n",
      "activation_2 (Activation)    (None, 14, 14, 32)        0         \n",
      "_________________________________________________________________\n",
      "max_pooling2d_2 (MaxPooling2 (None, 7, 7, 32)          0         \n",
      "_________________________________________________________________\n",
      "conv2d_3 (Conv2D)            (None, 7, 7, 64)          18496     \n",
      "_________________________________________________________________\n",
      "activation_3 (Activation)    (None, 7, 7, 64)          0         \n",
      "_________________________________________________________________\n",
      "max_pooling2d_3 (MaxPooling2 (None, 3, 3, 64)          0         \n",
      "_________________________________________________________________\n",
      "conv2d_4 (Conv2D)            (None, 3, 3, 64)          36928     \n",
      "_________________________________________________________________\n",
      "activation_4 (Activation)    (None, 3, 3, 64)          0         \n",
      "_________________________________________________________________\n",
      "flatten_1 (Flatten)          (None, 576)               0         \n",
      "_________________________________________________________________\n",
      "dense_1 (Dense)              (None, 128)               73856     \n",
      "_________________________________________________________________\n",
      "activation_5 (Activation)    (None, 128)               0         \n",
      "_________________________________________________________________\n",
      "dense_2 (Dense)              (None, 10)                1290      \n",
      "_________________________________________________________________\n",
      "activation_6 (Activation)    (None, 10)                0         \n",
      "=================================================================\n",
      "Total params: 157,034\n",
      "Trainable params: 157,034\n",
      "Non-trainable params: 0\n",
      "_________________________________________________________________\n"
     ]
    }
   ],
   "source": [
    "model.summary()"
   ]
  },
  {
   "cell_type": "code",
   "execution_count": null,
   "metadata": {},
   "outputs": [],
   "source": []
  },
  {
   "cell_type": "code",
   "execution_count": 8,
   "metadata": {},
   "outputs": [],
   "source": [
    "from keras.callbacks import ReduceLROnPlateau\n",
    "\n",
    "lrfunc = ReduceLROnPlateau(monitor=\"val_acc\",\n",
    "                           patience=2,factor=0.02,\n",
    "                           min_lr=0.0000001)"
   ]
  },
  {
   "cell_type": "code",
   "execution_count": 9,
   "metadata": {},
   "outputs": [],
   "source": [
    "from sklearn.model_selection import train_test_split\n",
    "\n",
    "x_Train,x_Val,y_Train,y_Val = train_test_split(x_train,y_train,test_size=0.2)"
   ]
  },
  {
   "cell_type": "code",
   "execution_count": 10,
   "metadata": {},
   "outputs": [],
   "source": [
    "from keras.preprocessing.image import ImageDataGenerator\n",
    "\n",
    "gen = ImageDataGenerator(rotation_range=45,\n",
    "                        width_shift_range=0.05,\n",
    "                        height_shift_range=0.05,\n",
    "                        shear_range=0.2,\n",
    "                        zoom_range=0.1,\n",
    "                        data_format = 'channels_last')"
   ]
  },
  {
   "cell_type": "code",
   "execution_count": 11,
   "metadata": {},
   "outputs": [],
   "source": [
    "gen.fit(x_Train)\n",
    "test_gen = gen.flow(x_Train,y_Train,batch_size=300)"
   ]
  },
  {
   "cell_type": "code",
   "execution_count": 12,
   "metadata": {},
   "outputs": [],
   "source": [
    "model.compile(optimizer=optimizers.Adam(lr = 0.001),\n",
    "              loss='mse', metrics=['accuracy'])"
   ]
  },
  {
   "cell_type": "code",
   "execution_count": 13,
   "metadata": {
    "scrolled": true
   },
   "outputs": [
    {
     "name": "stdout",
     "output_type": "stream",
     "text": [
      "Epoch 1/30\n",
      "300/300 [==============================] - 16s 53ms/step - loss: 0.0221 - acc: 0.8358 - val_loss: 0.0054 - val_acc: 0.9654247 - acc: - ETA: 1s - loss: 0.0 - ETA: 0s - loss: 0.0223 - acc: 0.\n",
      "Epoch 2/30\n",
      "300/300 [==============================] - 13s 44ms/step - loss: 0.0069 - acc: 0.9547 - val_loss: 0.0055 - val_acc: 0.96552\n",
      "Epoch 3/30\n",
      "300/300 [==============================] - 13s 44ms/step - loss: 0.0049 - acc: 0.9681 - val_loss: 0.0028 - val_acc: 0.9823\n",
      "Epoch 4/30\n",
      "300/300 [==============================] - 13s 44ms/step - loss: 0.0038 - acc: 0.9749 - val_loss: 0.0025 - val_acc: 0.9831\n",
      "Epoch 5/30\n",
      "300/300 [==============================] - 13s 45ms/step - loss: 0.0035 - acc: 0.9776 - val_loss: 0.0026 - val_acc: 0.9834cc: 0.9 -  - ETA: 0s - loss: 0.0035 - acc: 0.9\n",
      "Epoch 6/30\n",
      "300/300 [==============================] - 13s 45ms/step - loss: 0.0031 - acc: 0.9801 - val_loss: 0.0025 - val_acc: 0.9839A: 4s - loss:  - ETA: 2s - loss: 0.0031 - - ETA: 1s - loss: 0.0031 - a - ETA: 1s - loss: 0.0031 - acc: 0.9 - ETA: 0s - loss: 0.0031 - a\n",
      "Epoch 7/30\n",
      "300/300 [==============================] - 13s 45ms/step - loss: 0.0029 - acc: 0.9813 - val_loss: 0.0022 - val_acc: 0.9854oss: 0.0030 - acc: 0 - ETA: 2s - loss: 0.0030 - acc: 0.9 - ETA: 2s - loss: 0.0030 - acc: 0.981 - ETA: 2s - loss: 0.0030 - acc: 0. - ETA: 1s - \n",
      "Epoch 8/30\n",
      "300/300 [==============================] - 13s 45ms/step - loss: 0.0026 - acc: 0.9829 - val_loss: 0.0021 - val_acc: 0.9875\n",
      "Epoch 9/30\n",
      "300/300 [==============================] - 13s 44ms/step - loss: 0.0024 - acc: 0.9847 - val_loss: 0.0015 - val_acc: 0.9895s - loss: 0.0024 - acc: 0\n",
      "Epoch 10/30\n",
      "300/300 [==============================] - 13s 45ms/step - loss: 0.0024 - acc: 0.9847 - val_loss: 0.0020 - val_acc: 0.9871acc: 0.9 - ETA: 9s - loss: 0.0023 -  - ETA: 9s - loss: 0.0024 - acc: 0. - ETA - ETA: 6s - los - ETA: 4s - loss: 0.0024  \n",
      "Epoch 11/30\n",
      "300/300 [==============================] - 13s 45ms/step - loss: 0.0022 - acc: 0.9858 - val_loss: 0.0018 - val_acc: 0.9888\n",
      "Epoch 12/30\n",
      "300/300 [==============================] - 13s 45ms/step - loss: 0.0017 - acc: 0.9889 - val_loss: 0.0014 - val_acc: 0.9908\n",
      "Epoch 13/30\n",
      "300/300 [==============================] - 13s 45ms/step - loss: 0.0015 - acc: 0.9904 - val_loss: 0.0014 - val_acc: 0.9917\n",
      "Epoch 14/30\n",
      "300/300 [==============================] - 13s 44ms/step - loss: 0.0014 - acc: 0.9908 - val_loss: 0.0013 - val_acc: 0.9916\n",
      "Epoch 15/30\n",
      "300/300 [==============================] - 13s 43ms/step - loss: 0.0014 - acc: 0.9911 - val_loss: 0.0013 - val_acc: 0.9916\n",
      "Epoch 16/30\n",
      "300/300 [==============================] - 13s 44ms/step - loss: 0.0014 - acc: 0.9909 - val_loss: 0.0013 - val_acc: 0.9915\n",
      "Epoch 17/30\n",
      "300/300 [==============================] - 13s 44ms/step - loss: 0.0014 - acc: 0.9911 - val_loss: 0.0013 - val_acc: 0.9914\n",
      "Epoch 18/30\n",
      "300/300 [==============================] - 13s 44ms/step - loss: 0.0014 - acc: 0.9911 - val_loss: 0.0013 - val_acc: 0.9914\n",
      "Epoch 19/30\n",
      "300/300 [==============================] - 14s 45ms/step - loss: 0.0014 - acc: 0.9911 - val_loss: 0.0013 - val_acc: 0.9915\n",
      "Epoch 20/30\n",
      "300/300 [==============================] - 13s 43ms/step - loss: 0.0014 - acc: 0.9912 - val_loss: 0.0013 - val_acc: 0.9914\n",
      "Epoch 21/30\n",
      "300/300 [==============================] - 15s 48ms/step - loss: 0.0014 - acc: 0.9908 - val_loss: 0.0013 - val_acc: 0.9915\n",
      "Epoch 22/30\n",
      "300/300 [==============================] - 14s 47ms/step - loss: 0.0014 - acc: 0.9909 - val_loss: 0.0013 - val_acc: 0.9915\n",
      "Epoch 23/30\n",
      "300/300 [==============================] - 14s 45ms/step - loss: 0.0014 - acc: 0.9912 - val_loss: 0.0013 - val_acc: 0.9915TA: 1s - loss: 0.0014 \n",
      "Epoch 24/30\n",
      "300/300 [==============================] - 13s 44ms/step - loss: 0.0015 - acc: 0.9904 - val_loss: 0.0013 - val_acc: 0.9915\n",
      "Epoch 25/30\n",
      "300/300 [==============================] - 13s 43ms/step - loss: 0.0014 - acc: 0.9910 - val_loss: 0.0013 - val_acc: 0.9915\n",
      "Epoch 26/30\n",
      "300/300 [==============================] - 15s 50ms/step - loss: 0.0014 - acc: 0.9913 - val_loss: 0.0013 - val_acc: 0.9915\n",
      "Epoch 27/30\n",
      "300/300 [==============================] - 15s 52ms/step - loss: 0.0014 - acc: 0.9909 - val_loss: 0.0013 - val_acc: 0.9915\n",
      "Epoch 28/30\n",
      "300/300 [==============================] - 16s 54ms/step - loss: 0.0014 - acc: 0.9909 - val_loss: 0.0013 - val_acc: 0.9915\n",
      "Epoch 29/30\n",
      "300/300 [==============================] - 16s 54ms/step - loss: 0.0014 - acc: 0.9911 - val_loss: 0.0013 - val_acc: 0.9915\n",
      "Epoch 30/30\n",
      "300/300 [==============================] - 16s 55ms/step - loss: 0.0014 - acc: 0.9912 - val_loss: 0.0013 - val_acc: 0.9915\n"
     ]
    }
   ],
   "source": [
    "train_history=model.fit_generator(test_gen,epochs=30,verbose=1,\n",
    "                                   steps_per_epoch=300,\n",
    "                                   validation_data=(x_Val,y_Val),\n",
    "                                   callbacks = [lrfunc])"
   ]
  },
  {
   "cell_type": "code",
   "execution_count": null,
   "metadata": {},
   "outputs": [],
   "source": []
  },
  {
   "cell_type": "code",
   "execution_count": 14,
   "metadata": {},
   "outputs": [],
   "source": [
    "def show_train_history(train_history, label1, label2):\n",
    "    plt.plot(train_history.epoch,train_history.history[f'{label1}'],label=f'{label1}')\n",
    "    plt.plot(train_history.epoch,train_history.history[f'{label2}'],label=f'{label2}')\n",
    "    plt.legend(loc = 'best')    \n",
    "    plt.xlabel('Epochs')\n",
    "    plt.ylabel('Accuracy')\n",
    "    plt.title('Training history')"
   ]
  },
  {
   "cell_type": "code",
   "execution_count": 15,
   "metadata": {},
   "outputs": [
    {
     "data": {
      "image/png": "[encoded data removed]",
      "text/plain": [
       "<Figure size 432x288 with 1 Axes>"
      ]
     },
     "metadata": {},
     "output_type": "display_data"
    }
   ],
   "source": [
    "show_train_history(train_history,'acc','val_acc')"
   ]
  },
  {
   "cell_type": "code",
   "execution_count": null,
   "metadata": {},
   "outputs": [],
   "source": []
  },
  {
   "cell_type": "code",
   "execution_count": null,
   "metadata": {},
   "outputs": [],
   "source": []
  },
  {
   "cell_type": "code",
   "execution_count": 16,
   "metadata": {},
   "outputs": [],
   "source": [
    "from sklearn.metrics import confusion_matrix\n",
    "\n",
    "def plot_confusion_matrix(confusion_matrix,title):\n",
    "    plt.figure()\n",
    "    plt.imshow(cm)\n",
    "    plt.colorbar()\n",
    "    plt.ylabel(\"True\")\n",
    "    plt.xlabel(\"Predict\")\n",
    "    x=cm.shape[1]\n",
    "    y=cm.shape[0]\n",
    "    plt.xlim(-0.5,-0.5+x)\n",
    "    plt.ylim(-0.5+y,-0.5)\n",
    "    plt.xticks(np.arange(0,x,1))\n",
    "    plt.yticks(np.arange(x-1,-1,-1))\n",
    "    plt.tight_layout()\n",
    "    plt.title(f'{title}')\n",
    "\n",
    "    for i in range(cm.shape[0]):\n",
    "        for j in range(cm.shape[1]):\n",
    "            plt.text(i,j,cm[j][i],horizontalalignment = 'center',\n",
    "                     color = 'red',fontsize=9)"
   ]
  },
  {
   "cell_type": "code",
   "execution_count": 17,
   "metadata": {},
   "outputs": [],
   "source": [
    "predict = model.predict(x_test)"
   ]
  },
  {
   "cell_type": "code",
   "execution_count": 18,
   "metadata": {},
   "outputs": [],
   "source": [
    "cm = confusion_matrix(y_test.argmax(axis=1),predict.argmax(axis=1))"
   ]
  },
  {
   "cell_type": "code",
   "execution_count": 19,
   "metadata": {},
   "outputs": [
    {
     "data": {
      "image/png": "[encoded data removed]",
      "text/plain": [
       "<Figure size 432x288 with 2 Axes>"
      ]
     },
     "metadata": {},
     "output_type": "display_data"
    }
   ],
   "source": [
    "plot_confusion_matrix(cm,'confusion matirx')"
   ]
  },
  {
   "cell_type": "code",
   "execution_count": 20,
   "metadata": {},
   "outputs": [
    {
     "name": "stdout",
     "output_type": "stream",
     "text": [
      "10000/10000 [==============================] - 1s 68us/step\n"
     ]
    },
    {
     "data": {
      "text/plain": [
       "[0.0012486746209466166, 0.992]"
      ]
     },
     "execution_count": 20,
     "metadata": {},
     "output_type": "execute_result"
    }
   ],
   "source": [
    "model.evaluate(x_test,y_test)"
   ]
  },
  {
   "cell_type": "code",
   "execution_count": null,
   "metadata": {},
   "outputs": [],
   "source": []
  }
 ],
 "metadata": {
  "kernelspec": {
   "display_name": "Python 3",
   "language": "python",
   "name": "python3"
  },
  "language_info": {
   "codemirror_mode": {
    "name": "ipython",
    "version": 3
   },
   "file_extension": ".py",
   "mimetype": "text/x-python",
   "name": "python",
   "nbconvert_exporter": "python",
   "pygments_lexer": "ipython3",
   "version": "3.6.5"
  }
 },
 "nbformat": 4,
 "nbformat_minor": 2
}
