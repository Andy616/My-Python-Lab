{
 "cells": [
  {
   "cell_type": "code",
   "execution_count": 1,
   "metadata": {},
   "outputs": [
    {
     "name": "stdout",
     "output_type": "stream",
     "text": [
      "env: BACK_END=tensorflow\n"
     ]
    }
   ],
   "source": [
    "%env BACK_END=tensorflow"
   ]
  },
  {
   "cell_type": "code",
   "execution_count": 2,
   "metadata": {},
   "outputs": [],
   "source": [
    "%matplotlib inline\n",
    "\n",
    "import numpy as np\n",
    "import matplotlib.pyplot as plt"
   ]
  },
  {
   "cell_type": "code",
   "execution_count": null,
   "metadata": {},
   "outputs": [],
   "source": []
  },
  {
   "cell_type": "code",
   "execution_count": 3,
   "metadata": {},
   "outputs": [
    {
     "name": "stderr",
     "output_type": "stream",
     "text": [
      "E:\\Anaconda\\lib\\site-packages\\h5py\\__init__.py:36: FutureWarning: Conversion of the second argument of issubdtype from `float` to `np.floating` is deprecated. In future, it will be treated as `np.float64 == np.dtype(float).type`.\n",
      "  from ._conv import register_converters as _register_converters\n",
      "Using TensorFlow backend.\n"
     ]
    }
   ],
   "source": [
    "from keras.datasets import mnist"
   ]
  },
  {
   "cell_type": "code",
   "execution_count": 4,
   "metadata": {},
   "outputs": [],
   "source": [
    "(x_train0, y_train0), (x_test0, y_test0) = mnist.load_data()"
   ]
  },
  {
   "cell_type": "code",
   "execution_count": 5,
   "metadata": {},
   "outputs": [],
   "source": [
    "# plt.imshow(x_train0[5],cmap='Greys')"
   ]
  },
  {
   "cell_type": "code",
   "execution_count": null,
   "metadata": {},
   "outputs": [],
   "source": []
  },
  {
   "cell_type": "code",
   "execution_count": 6,
   "metadata": {},
   "outputs": [],
   "source": [
    "from keras.utils import np_utils"
   ]
  },
  {
   "cell_type": "code",
   "execution_count": 7,
   "metadata": {},
   "outputs": [],
   "source": [
    "y_train = np_utils.to_categorical(y_train0,10)\n",
    "y_test = np_utils.to_categorical(y_test0,10)"
   ]
  },
  {
   "cell_type": "code",
   "execution_count": 8,
   "metadata": {},
   "outputs": [
    {
     "data": {
      "text/plain": [
       "array([0., 0., 1., 0., 0., 0., 0., 0., 0., 0.], dtype=float32)"
      ]
     },
     "execution_count": 8,
     "metadata": {},
     "output_type": "execute_result"
    }
   ],
   "source": [
    "y_train[5]"
   ]
  },
  {
   "cell_type": "code",
   "execution_count": null,
   "metadata": {},
   "outputs": [],
   "source": []
  },
  {
   "cell_type": "code",
   "execution_count": 9,
   "metadata": {},
   "outputs": [],
   "source": [
    "x_train = x_train0/255\n",
    "x_test = x_test0/255"
   ]
  },
  {
   "cell_type": "code",
   "execution_count": 10,
   "metadata": {},
   "outputs": [],
   "source": [
    "x_train = x_train.reshape(60000,28,28,1)\n",
    "x_test = x_test.reshape(10000,28,28,1)"
   ]
  },
  {
   "cell_type": "code",
   "execution_count": null,
   "metadata": {},
   "outputs": [],
   "source": []
  },
  {
   "cell_type": "code",
   "execution_count": 11,
   "metadata": {},
   "outputs": [],
   "source": [
    "from keras.layers import Dense,Activation,Flatten\n",
    "from keras.models import Sequential\n",
    "from keras.layers import Conv2D,MaxPool2D\n",
    "from keras import optimizers"
   ]
  },
  {
   "cell_type": "code",
   "execution_count": 12,
   "metadata": {},
   "outputs": [],
   "source": [
    "model = Sequential()"
   ]
  },
  {
   "cell_type": "code",
   "execution_count": 13,
   "metadata": {},
   "outputs": [],
   "source": [
    "model.add(Conv2D(4,(4,4),padding='same',input_shape=(28,28,1)))\n",
    "model.add(Activation('relu'))\n",
    "model.add(MaxPool2D(pool_size=(2, 2)))"
   ]
  },
  {
   "cell_type": "code",
   "execution_count": 14,
   "metadata": {},
   "outputs": [],
   "source": [
    "model.add(Conv2D(8,(4,4),padding='same'))\n",
    "model.add(Activation('relu'))\n",
    "model.add(MaxPool2D(pool_size=(2, 2)))"
   ]
  },
  {
   "cell_type": "code",
   "execution_count": 15,
   "metadata": {},
   "outputs": [],
   "source": [
    "model.add(Conv2D(16,(4,4),padding='same'))\n",
    "model.add(Activation('relu'))\n",
    "model.add(MaxPool2D(pool_size=(2, 2)))"
   ]
  },
  {
   "cell_type": "code",
   "execution_count": 16,
   "metadata": {},
   "outputs": [],
   "source": [
    "model.add(Flatten())\n",
    "model.add(Dense(20))\n",
    "model.add(Activation('relu'))"
   ]
  },
  {
   "cell_type": "code",
   "execution_count": 17,
   "metadata": {},
   "outputs": [],
   "source": [
    "model.add(Dense(10))\n",
    "model.add(Activation('softmax'))"
   ]
  },
  {
   "cell_type": "code",
   "execution_count": 18,
   "metadata": {},
   "outputs": [
    {
     "name": "stdout",
     "output_type": "stream",
     "text": [
      "_________________________________________________________________\n",
      "Layer (type)                 Output Shape              Param #   \n",
      "=================================================================\n",
      "conv2d_1 (Conv2D)            (None, 28, 28, 4)         68        \n",
      "_________________________________________________________________\n",
      "activation_1 (Activation)    (None, 28, 28, 4)         0         \n",
      "_________________________________________________________________\n",
      "max_pooling2d_1 (MaxPooling2 (None, 14, 14, 4)         0         \n",
      "_________________________________________________________________\n",
      "conv2d_2 (Conv2D)            (None, 14, 14, 8)         520       \n",
      "_________________________________________________________________\n",
      "activation_2 (Activation)    (None, 14, 14, 8)         0         \n",
      "_________________________________________________________________\n",
      "max_pooling2d_2 (MaxPooling2 (None, 7, 7, 8)           0         \n",
      "_________________________________________________________________\n",
      "conv2d_3 (Conv2D)            (None, 7, 7, 16)          2064      \n",
      "_________________________________________________________________\n",
      "activation_3 (Activation)    (None, 7, 7, 16)          0         \n",
      "_________________________________________________________________\n",
      "max_pooling2d_3 (MaxPooling2 (None, 3, 3, 16)          0         \n",
      "_________________________________________________________________\n",
      "flatten_1 (Flatten)          (None, 144)               0         \n",
      "_________________________________________________________________\n",
      "dense_1 (Dense)              (None, 20)                2900      \n",
      "_________________________________________________________________\n",
      "activation_4 (Activation)    (None, 20)                0         \n",
      "_________________________________________________________________\n",
      "dense_2 (Dense)              (None, 10)                210       \n",
      "_________________________________________________________________\n",
      "activation_5 (Activation)    (None, 10)                0         \n",
      "=================================================================\n",
      "Total params: 5,762\n",
      "Trainable params: 5,762\n",
      "Non-trainable params: 0\n",
      "_________________________________________________________________\n"
     ]
    }
   ],
   "source": [
    "model.summary()"
   ]
  },
  {
   "cell_type": "code",
   "execution_count": null,
   "metadata": {},
   "outputs": [],
   "source": []
  },
  {
   "cell_type": "markdown",
   "metadata": {},
   "source": [
    "# 動態更改learning rate"
   ]
  },
  {
   "cell_type": "code",
   "execution_count": 19,
   "metadata": {},
   "outputs": [],
   "source": [
    "from keras.callbacks import ReduceLROnPlateau"
   ]
  },
  {
   "cell_type": "code",
   "execution_count": 20,
   "metadata": {},
   "outputs": [],
   "source": [
    "lrfunc = ReduceLROnPlateau(monitor=\"val_acc\",patience=3,factor=0.02,min_lr=0.000001)"
   ]
  },
  {
   "cell_type": "code",
   "execution_count": 21,
   "metadata": {},
   "outputs": [
    {
     "data": {
      "text/plain": [
       "keras.callbacks.ReduceLROnPlateau"
      ]
     },
     "execution_count": 21,
     "metadata": {},
     "output_type": "execute_result"
    }
   ],
   "source": [
    "type(lrfunc)"
   ]
  },
  {
   "cell_type": "code",
   "execution_count": null,
   "metadata": {},
   "outputs": [],
   "source": []
  },
  {
   "cell_type": "code",
   "execution_count": 22,
   "metadata": {},
   "outputs": [],
   "source": [
    "model.compile(optimizer=optimizers.Adam(lr = 0.001), loss='mse', metrics=['accuracy'])"
   ]
  },
  {
   "cell_type": "code",
   "execution_count": 23,
   "metadata": {},
   "outputs": [
    {
     "name": "stdout",
     "output_type": "stream",
     "text": [
      "Train on 60000 samples, validate on 10000 samples\n",
      "Epoch 1/50\n",
      "60000/60000 [==============================] - 3s 56us/step - loss: 0.0717 - acc: 0.4374 - val_loss: 0.0329 - val_acc: 0.7848\n",
      "Epoch 2/50\n",
      "60000/60000 [==============================] - 1s 24us/step - loss: 0.0206 - acc: 0.8620 - val_loss: 0.0138 - val_acc: 0.9087\n",
      "Epoch 3/50\n",
      "60000/60000 [==============================] - 1s 23us/step - loss: 0.0125 - acc: 0.9181 - val_loss: 0.0099 - val_acc: 0.9348\n",
      "Epoch 4/50\n",
      "60000/60000 [==============================] - 1s 23us/step - loss: 0.0099 - acc: 0.9356 - val_loss: 0.0082 - val_acc: 0.9447\n",
      "Epoch 5/50\n",
      "60000/60000 [==============================] - 1s 24us/step - loss: 0.0083 - acc: 0.9463 - val_loss: 0.0071 - val_acc: 0.9531\n",
      "Epoch 6/50\n",
      "60000/60000 [==============================] - 1s 24us/step - loss: 0.0073 - acc: 0.9530 - val_loss: 0.0068 - val_acc: 0.9572\n",
      "Epoch 7/50\n",
      "60000/60000 [==============================] - 1s 24us/step - loss: 0.0065 - acc: 0.9576 - val_loss: 0.0059 - val_acc: 0.9626\n",
      "Epoch 8/50\n",
      "60000/60000 [==============================] - 1s 23us/step - loss: 0.0059 - acc: 0.9618 - val_loss: 0.0058 - val_acc: 0.9641\n",
      "Epoch 9/50\n",
      "60000/60000 [==============================] - 1s 24us/step - loss: 0.0056 - acc: 0.9646 - val_loss: 0.0049 - val_acc: 0.9680\n",
      "Epoch 10/50\n",
      "60000/60000 [==============================] - 1s 23us/step - loss: 0.0052 - acc: 0.9670 - val_loss: 0.0050 - val_acc: 0.9665\n",
      "Epoch 11/50\n",
      "60000/60000 [==============================] - 1s 23us/step - loss: 0.0049 - acc: 0.9689 - val_loss: 0.0045 - val_acc: 0.9716\n",
      "Epoch 12/50\n",
      "60000/60000 [==============================] - 1s 24us/step - loss: 0.0046 - acc: 0.9707 - val_loss: 0.0043 - val_acc: 0.9726\n",
      "Epoch 13/50\n",
      "60000/60000 [==============================] - 1s 23us/step - loss: 0.0044 - acc: 0.9719 - val_loss: 0.0042 - val_acc: 0.9723\n",
      "Epoch 14/50\n",
      "60000/60000 [==============================] - 1s 23us/step - loss: 0.0042 - acc: 0.9729 - val_loss: 0.0041 - val_acc: 0.9748\n",
      "Epoch 15/50\n",
      "60000/60000 [==============================] - 1s 23us/step - loss: 0.0040 - acc: 0.9743 - val_loss: 0.0041 - val_acc: 0.9729\n",
      "Epoch 16/50\n",
      "60000/60000 [==============================] - 1s 23us/step - loss: 0.0039 - acc: 0.9758 - val_loss: 0.0039 - val_acc: 0.9748\n",
      "Epoch 17/50\n",
      "60000/60000 [==============================] - 1s 23us/step - loss: 0.0037 - acc: 0.9772 - val_loss: 0.0038 - val_acc: 0.9751\n",
      "Epoch 18/50\n",
      "60000/60000 [==============================] - 1s 24us/step - loss: 0.0036 - acc: 0.9775 - val_loss: 0.0037 - val_acc: 0.9754\n",
      "Epoch 19/50\n",
      "60000/60000 [==============================] - 1s 24us/step - loss: 0.0035 - acc: 0.9781 - val_loss: 0.0039 - val_acc: 0.9751\n",
      "Epoch 20/50\n",
      "60000/60000 [==============================] - 1s 24us/step - loss: 0.0034 - acc: 0.9788 - val_loss: 0.0034 - val_acc: 0.9776\n",
      "Epoch 21/50\n",
      "60000/60000 [==============================] - 1s 23us/step - loss: 0.0032 - acc: 0.9800 - val_loss: 0.0038 - val_acc: 0.9751\n",
      "Epoch 22/50\n",
      "60000/60000 [==============================] - 1s 23us/step - loss: 0.0032 - acc: 0.9797 - val_loss: 0.0033 - val_acc: 0.9784\n",
      "Epoch 23/50\n",
      "60000/60000 [==============================] - 1s 23us/step - loss: 0.0031 - acc: 0.9804 - val_loss: 0.0035 - val_acc: 0.9771\n",
      "Epoch 24/50\n",
      "60000/60000 [==============================] - 1s 24us/step - loss: 0.0031 - acc: 0.9805 - val_loss: 0.0033 - val_acc: 0.9792\n",
      "Epoch 25/50\n",
      "60000/60000 [==============================] - 1s 23us/step - loss: 0.0029 - acc: 0.9819 - val_loss: 0.0032 - val_acc: 0.9798\n",
      "Epoch 26/50\n",
      "60000/60000 [==============================] - 1s 24us/step - loss: 0.0029 - acc: 0.9818 - val_loss: 0.0030 - val_acc: 0.9804\n",
      "Epoch 27/50\n",
      "60000/60000 [==============================] - 1s 23us/step - loss: 0.0027 - acc: 0.9829 - val_loss: 0.0032 - val_acc: 0.9794 - loss: 0.0027 - acc: 0.982 - ETA: 0s - loss: 0.0027 - acc: 0.982\n",
      "Epoch 28/50\n",
      "60000/60000 [==============================] - 1s 23us/step - loss: 0.0027 - acc: 0.9837 - val_loss: 0.0032 - val_acc: 0.9789\n",
      "Epoch 29/50\n",
      "60000/60000 [==============================] - 1s 23us/step - loss: 0.0027 - acc: 0.9829 - val_loss: 0.0029 - val_acc: 0.9804\n",
      "Epoch 30/50\n",
      "60000/60000 [==============================] - 1s 23us/step - loss: 0.0024 - acc: 0.9850 - val_loss: 0.0028 - val_acc: 0.9812\n",
      "Epoch 31/50\n",
      "60000/60000 [==============================] - 1s 24us/step - loss: 0.0023 - acc: 0.9860 - val_loss: 0.0028 - val_acc: 0.9810\n",
      "Epoch 32/50\n",
      "60000/60000 [==============================] - 1s 24us/step - loss: 0.0023 - acc: 0.9859 - val_loss: 0.0028 - val_acc: 0.9809\n",
      "Epoch 33/50\n",
      "60000/60000 [==============================] - 1s 24us/step - loss: 0.0023 - acc: 0.9860 - val_loss: 0.0028 - val_acc: 0.9808\n",
      "Epoch 34/50\n",
      "60000/60000 [==============================] - 1s 24us/step - loss: 0.0023 - acc: 0.9860 - val_loss: 0.0028 - val_acc: 0.9809\n",
      "Epoch 35/50\n",
      "60000/60000 [==============================] - 1s 23us/step - loss: 0.0023 - acc: 0.9860 - val_loss: 0.0028 - val_acc: 0.9810\n",
      "Epoch 36/50\n",
      "60000/60000 [==============================] - 1s 23us/step - loss: 0.0023 - acc: 0.9860 - val_loss: 0.0028 - val_acc: 0.9810\n",
      "Epoch 37/50\n",
      "60000/60000 [==============================] - 1s 23us/step - loss: 0.0023 - acc: 0.9860 - val_loss: 0.0028 - val_acc: 0.9811\n",
      "Epoch 38/50\n",
      "60000/60000 [==============================] - 1s 23us/step - loss: 0.0023 - acc: 0.9860 - val_loss: 0.0028 - val_acc: 0.9812: 0s - loss: 0.0021 - acc: 0.987 - ETA: 0s - loss: 0.0022 \n",
      "Epoch 39/50\n",
      "60000/60000 [==============================] - 1s 23us/step - loss: 0.0023 - acc: 0.9860 - val_loss: 0.0028 - val_acc: 0.9812\n",
      "Epoch 40/50\n",
      "60000/60000 [==============================] - 1s 23us/step - loss: 0.0023 - acc: 0.9859 - val_loss: 0.0028 - val_acc: 0.9812\n",
      "Epoch 41/50\n",
      "60000/60000 [==============================] - 1s 23us/step - loss: 0.0023 - acc: 0.9859 - val_loss: 0.0028 - val_acc: 0.9812\n",
      "Epoch 42/50\n",
      "60000/60000 [==============================] - 1s 23us/step - loss: 0.0023 - acc: 0.9860 - val_loss: 0.0028 - val_acc: 0.9812\n",
      "Epoch 43/50\n",
      "60000/60000 [==============================] - 1s 24us/step - loss: 0.0023 - acc: 0.9860 - val_loss: 0.0028 - val_acc: 0.9812\n",
      "Epoch 44/50\n",
      "60000/60000 [==============================] - 1s 23us/step - loss: 0.0023 - acc: 0.9860 - val_loss: 0.0028 - val_acc: 0.9812\n",
      "Epoch 45/50\n",
      "60000/60000 [==============================] - 1s 23us/step - loss: 0.0023 - acc: 0.9860 - val_loss: 0.0028 - val_acc: 0.9813\n",
      "Epoch 46/50\n",
      "60000/60000 [==============================] - 1s 23us/step - loss: 0.0023 - acc: 0.9860 - val_loss: 0.0028 - val_acc: 0.9813\n",
      "Epoch 47/50\n",
      "60000/60000 [==============================] - 1s 23us/step - loss: 0.0023 - acc: 0.9861 - val_loss: 0.0028 - val_acc: 0.9813\n",
      "Epoch 48/50\n",
      "60000/60000 [==============================] - 1s 23us/step - loss: 0.0023 - acc: 0.9861 - val_loss: 0.0028 - val_acc: 0.9813\n",
      "Epoch 49/50\n",
      "60000/60000 [==============================] - 1s 23us/step - loss: 0.0023 - acc: 0.9861 - val_loss: 0.0028 - val_acc: 0.9812\n",
      "Epoch 50/50\n",
      "60000/60000 [==============================] - 1s 23us/step - loss: 0.0023 - acc: 0.9861 - val_loss: 0.0028 - val_acc: 0.9813\n"
     ]
    }
   ],
   "source": [
    "train_history = model.fit(x_train,y_train,batch_size=1000,epochs=50,\n",
    "                          validation_data=(x_test,y_test),\n",
    "                          callbacks=[lrfunc])"
   ]
  },
  {
   "cell_type": "code",
   "execution_count": 24,
   "metadata": {},
   "outputs": [
    {
     "name": "stdout",
     "output_type": "stream",
     "text": [
      "10000/10000 [==============================] - 0s 47us/step\n"
     ]
    },
    {
     "data": {
      "text/plain": [
       "[0.0027963683929355452, 0.9813]"
      ]
     },
     "execution_count": 24,
     "metadata": {},
     "output_type": "execute_result"
    }
   ],
   "source": [
    "model.evaluate(x_test,y_test)"
   ]
  },
  {
   "cell_type": "code",
   "execution_count": 25,
   "metadata": {},
   "outputs": [
    {
     "data": {
      "text/plain": [
       "{'batch_size': 1000,\n",
       " 'epochs': 50,\n",
       " 'steps': None,\n",
       " 'samples': 60000,\n",
       " 'verbose': 1,\n",
       " 'do_validation': True,\n",
       " 'metrics': ['loss', 'acc', 'val_loss', 'val_acc']}"
      ]
     },
     "execution_count": 25,
     "metadata": {},
     "output_type": "execute_result"
    }
   ],
   "source": [
    "train_history.params.copy()"
   ]
  },
  {
   "cell_type": "code",
   "execution_count": 26,
   "metadata": {},
   "outputs": [
    {
     "data": {
      "text/plain": [
       "['loss', 'acc', 'val_loss', 'val_acc']"
      ]
     },
     "execution_count": 26,
     "metadata": {},
     "output_type": "execute_result"
    }
   ],
   "source": [
    "train_history.params.get('metrics')"
   ]
  },
  {
   "cell_type": "code",
   "execution_count": 27,
   "metadata": {},
   "outputs": [
    {
     "data": {
      "text/plain": [
       "dict_keys(['val_loss', 'val_acc', 'loss', 'acc', 'lr'])"
      ]
     },
     "execution_count": 27,
     "metadata": {},
     "output_type": "execute_result"
    }
   ],
   "source": [
    "train_history.history.keys()"
   ]
  },
  {
   "cell_type": "code",
   "execution_count": 28,
   "metadata": {},
   "outputs": [],
   "source": [
    "def show_train_history(train_history, label1, label2):\n",
    "    plt.plot(train_history.epoch,train_history.history[f'{label1}'],label=f'{label1}')\n",
    "    plt.plot(train_history.epoch,train_history.history[f'{label2}'],label=f'{label2}')\n",
    "    plt.legend(loc = 'best')    \n",
    "    plt.xlabel('Epochs')\n",
    "    plt.ylabel('Accuracy')\n",
    "    plt.title('Training history')"
   ]
  },
  {
   "cell_type": "code",
   "execution_count": 29,
   "metadata": {},
   "outputs": [
    {
     "data": {
      "image/png": "[encoded data removed]",
      "text/plain": [
       "<Figure size 432x288 with 1 Axes>"
      ]
     },
     "metadata": {},
     "output_type": "display_data"
    }
   ],
   "source": [
    "show_train_history(train_history,'acc','val_acc')"
   ]
  },
  {
   "cell_type": "code",
   "execution_count": null,
   "metadata": {},
   "outputs": [],
   "source": []
  },
  {
   "cell_type": "code",
   "execution_count": 30,
   "metadata": {},
   "outputs": [],
   "source": [
    "predict = model.predict(x_test)"
   ]
  },
  {
   "cell_type": "code",
   "execution_count": 70,
   "metadata": {},
   "outputs": [
    {
     "data": {
      "text/plain": [
       "array([7, 2, 1, ..., 4, 5, 6], dtype=int64)"
      ]
     },
     "execution_count": 70,
     "metadata": {},
     "output_type": "execute_result"
    }
   ],
   "source": [
    "predict.argmax(axis=1)"
   ]
  },
  {
   "cell_type": "code",
   "execution_count": 66,
   "metadata": {},
   "outputs": [
    {
     "data": {
      "text/plain": [
       "array([0.99991584, 0.99999857, 0.9865356 , ..., 0.99999857, 0.99912363,\n",
       "       0.99999535], dtype=float32)"
      ]
     },
     "execution_count": 66,
     "metadata": {},
     "output_type": "execute_result"
    }
   ],
   "source": [
    "np.amax(predict,axis=1)"
   ]
  },
  {
   "cell_type": "code",
   "execution_count": 72,
   "metadata": {},
   "outputs": [
    {
     "data": {
      "text/plain": [
       "array([7, 2, 1, ..., 4, 5, 6], dtype=int64)"
      ]
     },
     "execution_count": 72,
     "metadata": {},
     "output_type": "execute_result"
    }
   ],
   "source": [
    "y_test.argmax(axis=1)"
   ]
  },
  {
   "cell_type": "code",
   "execution_count": 32,
   "metadata": {},
   "outputs": [],
   "source": [
    "from sklearn.metrics import confusion_matrix"
   ]
  },
  {
   "cell_type": "code",
   "execution_count": 77,
   "metadata": {
    "scrolled": true
   },
   "outputs": [
    {
     "data": {
      "text/plain": [
       "array([[ 971,    0,    0,    0,    0,    2,    3,    0,    3,    1],\n",
       "       [   0, 1123,    3,    1,    0,    2,    1,    2,    3,    0],\n",
       "       [   2,    2, 1017,    4,    1,    0,    1,    2,    3,    0],\n",
       "       [   0,    0,    3,  991,    0,    6,    0,    4,    3,    3],\n",
       "       [   3,    0,    0,    0,  966,    0,    2,    3,    1,    7],\n",
       "       [   4,    0,    0,    6,    1,  875,    3,    1,    1,    1],\n",
       "       [   4,    3,    2,    0,    3,    5,  938,    0,    3,    0],\n",
       "       [   2,    3,    7,    3,    0,    0,    0, 1008,    1,    4],\n",
       "       [   6,    1,    1,    3,    1,    7,    0,    4,  950,    1],\n",
       "       [   2,    4,    2,    6,    5,    3,    0,    6,    7,  974]],\n",
       "      dtype=int64)"
      ]
     },
     "execution_count": 77,
     "metadata": {},
     "output_type": "execute_result"
    }
   ],
   "source": [
    "cm = confusion_matrix(y_test.argmax(axis=1),predict.argmax(axis=1))\n",
    "cm"
   ]
  },
  {
   "cell_type": "code",
   "execution_count": null,
   "metadata": {},
   "outputs": [],
   "source": []
  },
  {
   "cell_type": "code",
   "execution_count": 167,
   "metadata": {},
   "outputs": [],
   "source": [
    "def plot_confusion_matrix(confusion_matrix,title):\n",
    "    plt.figure()\n",
    "    plt.imshow(cm)\n",
    "    plt.colorbar()\n",
    "    plt.ylabel(\"True\")\n",
    "    plt.xlabel(\"Predict\")\n",
    "    x=cm.shape[1]\n",
    "    y=cm.shape[0]\n",
    "    plt.xlim(-0.5,-0.5+x)\n",
    "    plt.ylim(-0.5+y,-0.5)\n",
    "    plt.xticks(np.arange(0,x,1))\n",
    "    plt.yticks(np.arange(x-1,-1,-1))\n",
    "    plt.tight_layout()\n",
    "    plt.title(f'{title}')\n",
    "\n",
    "    for i in range(cm.shape[0]):\n",
    "        for j in range(cm.shape[1]):\n",
    "            plt.text(i,j,cm[j][i],horizontalalignment = 'center',color = 'red',fontsize=9)"
   ]
  },
  {
   "cell_type": "code",
   "execution_count": 168,
   "metadata": {},
   "outputs": [
    {
     "data": {
      "image/png": "[encoded data removed]",
      "text/plain": [
       "<Figure size 432x288 with 2 Axes>"
      ]
     },
     "metadata": {},
     "output_type": "display_data"
    }
   ],
   "source": [
    "plot_confusion_matrix(cm,'Confusion Matrix')"
   ]
  },
  {
   "cell_type": "code",
   "execution_count": null,
   "metadata": {},
   "outputs": [],
   "source": []
  },
  {
   "cell_type": "code",
   "execution_count": 169,
   "metadata": {},
   "outputs": [],
   "source": [
    "from sklearn.model_selection import train_test_split"
   ]
  },
  {
   "cell_type": "code",
   "execution_count": 170,
   "metadata": {},
   "outputs": [],
   "source": [
    "x_Train,x_Val,y_Train,y_Val = train_test_split(x_train,y_train,test_size=0.2)"
   ]
  },
  {
   "cell_type": "code",
   "execution_count": 176,
   "metadata": {},
   "outputs": [],
   "source": [
    "from keras.preprocessing.image import ImageDataGenerator"
   ]
  },
  {
   "cell_type": "code",
   "execution_count": 177,
   "metadata": {},
   "outputs": [],
   "source": [
    "gen = ImageDataGenerator(rotation_range=30,\n",
    "                        width_shift_range=0.1,\n",
    "                        height_shift_range=0.1,\n",
    "                        shear_range=0.3,\n",
    "                        zoom_range=0.1,\n",
    "                        data_format = 'channels_last')"
   ]
  },
  {
   "cell_type": "code",
   "execution_count": 178,
   "metadata": {},
   "outputs": [],
   "source": [
    "gen.fit(x_Train)"
   ]
  },
  {
   "cell_type": "code",
   "execution_count": 180,
   "metadata": {},
   "outputs": [],
   "source": [
    "test_gen = gen.flow(x_Train,y_Train,batch_size=300)"
   ]
  },
  {
   "cell_type": "code",
   "execution_count": 184,
   "metadata": {},
   "outputs": [
    {
     "name": "stdout",
     "output_type": "stream",
     "text": [
      "Epoch 1/30\n",
      "300/300 [==============================] - 13s 45ms/step - loss: 0.0292 - acc: 0.8103 - val_loss: 0.0023 - val_acc: 0.9859\n",
      "Epoch 2/30\n",
      "300/300 [==============================] - 14s 48ms/step - loss: 0.0279 - acc: 0.8184 - val_loss: 0.0023 - val_acc: 0.9858\n",
      "Epoch 3/30\n",
      "300/300 [==============================] - 14s 46ms/step - loss: 0.0288 - acc: 0.8122 - val_loss: 0.0024 - val_acc: 0.9855\n",
      "Epoch 4/30\n",
      "300/300 [==============================] - 14s 46ms/step - loss: 0.0287 - acc: 0.8134 - val_loss: 0.0024 - val_acc: 0.9853\n",
      "Epoch 5/30\n",
      "300/300 [==============================] - 14s 46ms/step - loss: 0.0278 - acc: 0.8192 - val_loss: 0.0024 - val_acc: 0.9848\n",
      "Epoch 6/30\n",
      "300/300 [==============================] - 14s 46ms/step - loss: 0.0280 - acc: 0.8169 - val_loss: 0.0024 - val_acc: 0.9849\n",
      "Epoch 7/30\n",
      "300/300 [==============================] - 14s 46ms/step - loss: 0.0279 - acc: 0.8173 - val_loss: 0.0024 - val_acc: 0.9848\n",
      "Epoch 8/30\n",
      "300/300 [==============================] - 14s 46ms/step - loss: 0.0277 - acc: 0.8197 - val_loss: 0.0024 - val_acc: 0.9850\n",
      "Epoch 9/30\n",
      "300/300 [==============================] - 14s 46ms/step - loss: 0.0275 - acc: 0.8204 - val_loss: 0.0024 - val_acc: 0.9847\n",
      "Epoch 10/30\n",
      "300/300 [==============================] - 14s 46ms/step - loss: 0.0275 - acc: 0.8198 - val_loss: 0.0024 - val_acc: 0.9845\n",
      "Epoch 11/30\n",
      "300/300 [==============================] - 14s 45ms/step - loss: 0.0273 - acc: 0.8214 - val_loss: 0.0024 - val_acc: 0.9846\n",
      "Epoch 12/30\n",
      "300/300 [==============================] - 14s 46ms/step - loss: 0.0278 - acc: 0.8183 - val_loss: 0.0024 - val_acc: 0.9845\n",
      "Epoch 13/30\n",
      "300/300 [==============================] - 14s 46ms/step - loss: 0.0274 - acc: 0.8205 - val_loss: 0.0024 - val_acc: 0.9842\n",
      "Epoch 14/30\n",
      "300/300 [==============================] - 14s 46ms/step - loss: 0.0272 - acc: 0.8217 - val_loss: 0.0025 - val_acc: 0.9841\n",
      "Epoch 15/30\n",
      "300/300 [==============================] - 14s 46ms/step - loss: 0.0271 - acc: 0.8232 - val_loss: 0.0025 - val_acc: 0.9840 - ETA: 0s - loss: 0.0271 - acc: 0.8\n",
      "Epoch 16/30\n",
      "300/300 [==============================] - 14s 46ms/step - loss: 0.0272 - acc: 0.8226 - val_loss: 0.0025 - val_acc: 0.9839\n",
      "Epoch 17/30\n",
      "300/300 [==============================] - 14s 46ms/step - loss: 0.0268 - acc: 0.8248 - val_loss: 0.0025 - val_acc: 0.9841\n",
      "Epoch 18/30\n",
      "300/300 [==============================] - 14s 46ms/step - loss: 0.0265 - acc: 0.8266 - val_loss: 0.0025 - val_acc: 0.9840\n",
      "Epoch 19/30\n",
      "300/300 [==============================] - 14s 46ms/step - loss: 0.0268 - acc: 0.8237 - val_loss: 0.0025 - val_acc: 0.9840\n",
      "Epoch 20/30\n",
      "300/300 [==============================] - 14s 46ms/step - loss: 0.0266 - acc: 0.8265 - val_loss: 0.0025 - val_acc: 0.9842\n",
      "Epoch 21/30\n",
      "300/300 [==============================] - 14s 46ms/step - loss: 0.0268 - acc: 0.8237 - val_loss: 0.0025 - val_acc: 0.9840\n",
      "Epoch 22/30\n",
      "300/300 [==============================] - 14s 46ms/step - loss: 0.0264 - acc: 0.8268 - val_loss: 0.0025 - val_acc: 0.9841: 0.82 - ETA: 2\n",
      "Epoch 23/30\n",
      "300/300 [==============================] - 14s 46ms/step - loss: 0.0265 - acc: 0.8268 - val_loss: 0.0025 - val_acc: 0.9840\n",
      "Epoch 24/30\n",
      "300/300 [==============================] - 14s 46ms/step - loss: 0.0263 - acc: 0.8270 - val_loss: 0.0025 - val_acc: 0.9841\n",
      "Epoch 25/30\n",
      "300/300 [==============================] - 14s 46ms/step - loss: 0.0261 - acc: 0.8292 - val_loss: 0.0025 - val_acc: 0.9842\n",
      "Epoch 26/30\n",
      "300/300 [==============================] - 14s 46ms/step - loss: 0.0261 - acc: 0.8285 - val_loss: 0.0025 - val_acc: 0.9840\n",
      "Epoch 27/30\n",
      "300/300 [==============================] - 14s 46ms/step - loss: 0.0263 - acc: 0.8273 - val_loss: 0.0025 - val_acc: 0.9840\n",
      "Epoch 28/30\n",
      "300/300 [==============================] - 14s 48ms/step - loss: 0.0258 - acc: 0.8310 - val_loss: 0.0025 - val_acc: 0.9840\n",
      "Epoch 29/30\n",
      "300/300 [==============================] - 14s 48ms/step - loss: 0.0259 - acc: 0.8294 - val_loss: 0.0025 - val_acc: 0.9838\n",
      "Epoch 30/30\n",
      "300/300 [==============================] - 13s 45ms/step - loss: 0.0257 - acc: 0.8315 - val_loss: 0.0025 - val_acc: 0.9838\n"
     ]
    }
   ],
   "source": [
    "train_history2=model.fit_generator(test_gen,epochs=30,verbose=1,\n",
    "                                   steps_per_epoch=300,\n",
    "                                   validation_data=(x_Val,y_Val),\n",
    "                                   callbacks = [lrfunc])"
   ]
  },
  {
   "cell_type": "code",
   "execution_count": 185,
   "metadata": {},
   "outputs": [
    {
     "data": {
      "image/png": "[encoded data removed]",
      "text/plain": [
       "<Figure size 432x288 with 1 Axes>"
      ]
     },
     "metadata": {},
     "output_type": "display_data"
    }
   ],
   "source": [
    "show_train_history(train_history2,'acc','val_acc')"
   ]
  },
  {
   "cell_type": "code",
   "execution_count": null,
   "metadata": {},
   "outputs": [],
   "source": []
  },
  {
   "cell_type": "code",
   "execution_count": null,
   "metadata": {},
   "outputs": [],
   "source": []
  },
  {
   "cell_type": "code",
   "execution_count": null,
   "metadata": {},
   "outputs": [],
   "source": []
  },
  {
   "cell_type": "code",
   "execution_count": null,
   "metadata": {},
   "outputs": [],
   "source": []
  }
 ],
 "metadata": {
  "kernelspec": {
   "display_name": "Python 3",
   "language": "python",
   "name": "python3"
  },
  "language_info": {
   "codemirror_mode": {
    "name": "ipython",
    "version": 3
   },
   "file_extension": ".py",
   "mimetype": "text/x-python",
   "name": "python",
   "nbconvert_exporter": "python",
   "pygments_lexer": "ipython3",
   "version": "3.6.5"
  }
 },
 "nbformat": 4,
 "nbformat_minor": 2
}
