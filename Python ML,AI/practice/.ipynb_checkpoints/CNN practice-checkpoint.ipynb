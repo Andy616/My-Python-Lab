{
 "cells": [
  {
   "cell_type": "code",
   "execution_count": 1,
   "metadata": {},
   "outputs": [
    {
     "name": "stdout",
     "output_type": "stream",
     "text": [
      "env: BACK_END=tensorflow\n"
     ]
    }
   ],
   "source": [
    "%env BACK_END=tensorflow"
   ]
  },
  {
   "cell_type": "code",
   "execution_count": 2,
   "metadata": {},
   "outputs": [],
   "source": [
    "%matplotlib inline\n",
    "\n",
    "import numpy as np\n",
    "import matplotlib.pyplot as plt"
   ]
  },
  {
   "cell_type": "code",
   "execution_count": null,
   "metadata": {},
   "outputs": [],
   "source": []
  },
  {
   "cell_type": "code",
   "execution_count": 3,
   "metadata": {},
   "outputs": [
    {
     "name": "stderr",
     "output_type": "stream",
     "text": [
      "E:\\Anaconda\\lib\\site-packages\\h5py\\__init__.py:36: FutureWarning: Conversion of the second argument of issubdtype from `float` to `np.floating` is deprecated. In future, it will be treated as `np.float64 == np.dtype(float).type`.\n",
      "  from ._conv import register_converters as _register_converters\n",
      "Using TensorFlow backend.\n"
     ]
    }
   ],
   "source": [
    "from keras.datasets import mnist"
   ]
  },
  {
   "cell_type": "code",
   "execution_count": 4,
   "metadata": {},
   "outputs": [],
   "source": [
    "(x_train0, y_train0), (x_test0, y_test0) = mnist.load_data()"
   ]
  },
  {
   "cell_type": "code",
   "execution_count": 5,
   "metadata": {},
   "outputs": [
    {
     "data": {
      "text/plain": [
       "<matplotlib.image.AxesImage at 0x153be879278>"
      ]
     },
     "execution_count": 5,
     "metadata": {},
     "output_type": "execute_result"
    },
    {
     "data": {
      "image/png": "[encoded data removed]",
      "text/plain": [
       "<Figure size 432x288 with 1 Axes>"
      ]
     },
     "metadata": {},
     "output_type": "display_data"
    }
   ],
   "source": [
    "plt.imshow(x_train0[5],cmap='Greys')"
   ]
  },
  {
   "cell_type": "code",
   "execution_count": 6,
   "metadata": {},
   "outputs": [
    {
     "data": {
      "text/plain": [
       "1"
      ]
     },
     "execution_count": 6,
     "metadata": {},
     "output_type": "execute_result"
    }
   ],
   "source": [
    "y_train0[9487]"
   ]
  },
  {
   "cell_type": "code",
   "execution_count": null,
   "metadata": {},
   "outputs": [],
   "source": []
  },
  {
   "cell_type": "code",
   "execution_count": 7,
   "metadata": {},
   "outputs": [],
   "source": [
    "from keras.utils import np_utils"
   ]
  },
  {
   "cell_type": "code",
   "execution_count": 8,
   "metadata": {},
   "outputs": [],
   "source": [
    "y_train = np_utils.to_categorical(y_train0,10)\n",
    "y_test = np_utils.to_categorical(y_test0,10)"
   ]
  },
  {
   "cell_type": "code",
   "execution_count": 9,
   "metadata": {},
   "outputs": [
    {
     "data": {
      "text/plain": [
       "array([0., 0., 1., 0., 0., 0., 0., 0., 0., 0.], dtype=float32)"
      ]
     },
     "execution_count": 9,
     "metadata": {},
     "output_type": "execute_result"
    }
   ],
   "source": [
    "y_train[5]"
   ]
  },
  {
   "cell_type": "code",
   "execution_count": null,
   "metadata": {},
   "outputs": [],
   "source": []
  },
  {
   "cell_type": "code",
   "execution_count": 10,
   "metadata": {},
   "outputs": [
    {
     "data": {
      "text/plain": [
       "array([[0.        , 0.        , 0.        , 0.        , 0.        ,\n",
       "        0.        , 0.        , 0.        , 0.        , 0.        ,\n",
       "        0.        , 0.        , 0.        , 0.        , 0.        ,\n",
       "        0.        , 0.        , 0.        , 0.        , 0.        ,\n",
       "        0.        , 0.        , 0.        , 0.        , 0.        ,\n",
       "        0.        , 0.        , 0.        ],\n",
       "       [0.        , 0.        , 0.        , 0.        , 0.        ,\n",
       "        0.        , 0.        , 0.        , 0.        , 0.        ,\n",
       "        0.        , 0.        , 0.        , 0.        , 0.        ,\n",
       "        0.        , 0.        , 0.        , 0.        , 0.        ,\n",
       "        0.        , 0.        , 0.        , 0.        , 0.        ,\n",
       "        0.        , 0.        , 0.        ],\n",
       "       [0.        , 0.        , 0.        , 0.        , 0.        ,\n",
       "        0.        , 0.        , 0.        , 0.        , 0.        ,\n",
       "        0.        , 0.        , 0.        , 0.        , 0.        ,\n",
       "        0.        , 0.        , 0.        , 0.        , 0.        ,\n",
       "        0.        , 0.        , 0.        , 0.        , 0.        ,\n",
       "        0.        , 0.        , 0.        ],\n",
       "       [0.        , 0.        , 0.        , 0.        , 0.        ,\n",
       "        0.        , 0.        , 0.        , 0.        , 0.        ,\n",
       "        0.        , 0.        , 0.        , 0.        , 0.        ,\n",
       "        0.        , 0.        , 0.        , 0.        , 0.        ,\n",
       "        0.        , 0.        , 0.        , 0.        , 0.        ,\n",
       "        0.        , 0.        , 0.        ],\n",
       "       [0.        , 0.        , 0.        , 0.        , 0.        ,\n",
       "        0.        , 0.        , 0.        , 0.        , 0.        ,\n",
       "        0.        , 0.        , 0.        , 0.        , 0.        ,\n",
       "        0.        , 0.        , 0.        , 0.        , 0.        ,\n",
       "        0.        , 0.        , 0.        , 0.        , 0.        ,\n",
       "        0.        , 0.        , 0.        ],\n",
       "       [0.        , 0.        , 0.        , 0.        , 0.        ,\n",
       "        0.        , 0.        , 0.        , 0.        , 0.        ,\n",
       "        0.        , 0.        , 0.        , 0.        , 0.        ,\n",
       "        0.        , 0.        , 0.        , 0.        , 0.        ,\n",
       "        0.        , 0.        , 0.        , 0.        , 0.        ,\n",
       "        0.        , 0.        , 0.        ],\n",
       "       [0.        , 0.        , 0.        , 0.        , 0.        ,\n",
       "        0.        , 0.        , 0.        , 0.        , 0.        ,\n",
       "        0.        , 0.        , 0.        , 0.        , 0.        ,\n",
       "        0.        , 0.        , 0.        , 0.        , 0.        ,\n",
       "        0.        , 0.        , 0.        , 0.        , 0.        ,\n",
       "        0.        , 0.        , 0.        ],\n",
       "       [0.        , 0.        , 0.        , 0.        , 0.        ,\n",
       "        0.        , 0.        , 0.        , 0.        , 0.        ,\n",
       "        0.        , 0.        , 0.        , 0.        , 0.        ,\n",
       "        0.        , 0.        , 0.        , 0.        , 0.        ,\n",
       "        0.        , 0.        , 0.        , 0.        , 0.        ,\n",
       "        0.        , 0.        , 0.        ],\n",
       "       [0.        , 0.        , 0.        , 0.        , 0.        ,\n",
       "        0.        , 0.        , 0.        , 0.        , 0.        ,\n",
       "        0.14901961, 0.44313725, 0.44313725, 0.44313725, 0.44705882,\n",
       "        0.93333333, 0.99215686, 0.99215686, 0.99215686, 1.        ,\n",
       "        0.80784314, 0.34509804, 0.        , 0.        , 0.        ,\n",
       "        0.        , 0.        , 0.        ],\n",
       "       [0.        , 0.        , 0.        , 0.        , 0.        ,\n",
       "        0.        , 0.        , 0.22352941, 0.33333333, 0.57647059,\n",
       "        0.91764706, 0.98823529, 0.98823529, 0.98823529, 0.99215686,\n",
       "        0.98823529, 0.98823529, 0.98823529, 0.98823529, 0.99215686,\n",
       "        0.98823529, 0.96470588, 0.29411765, 0.        , 0.        ,\n",
       "        0.        , 0.        , 0.        ],\n",
       "       [0.        , 0.        , 0.        , 0.        , 0.        ,\n",
       "        0.2627451 , 0.77254902, 0.91764706, 0.98823529, 0.99215686,\n",
       "        0.98823529, 0.98823529, 0.98823529, 0.98823529, 0.76862745,\n",
       "        0.76470588, 0.76470588, 0.76470588, 0.76470588, 0.99215686,\n",
       "        0.98823529, 0.98823529, 0.32941176, 0.        , 0.        ,\n",
       "        0.        , 0.        , 0.        ],\n",
       "       [0.        , 0.        , 0.        , 0.        , 0.        ,\n",
       "        0.33333333, 0.98823529, 0.98823529, 0.98823529, 0.88235294,\n",
       "        0.8745098 , 0.44705882, 0.32941176, 0.32941176, 0.        ,\n",
       "        0.        , 0.        , 0.        , 0.0627451 , 0.99215686,\n",
       "        0.98823529, 0.83921569, 0.10980392, 0.        , 0.        ,\n",
       "        0.        , 0.        , 0.        ],\n",
       "       [0.        , 0.        , 0.        , 0.        , 0.        ,\n",
       "        0.14901961, 0.86666667, 0.61568627, 0.43921569, 0.        ,\n",
       "        0.        , 0.        , 0.        , 0.        , 0.        ,\n",
       "        0.        , 0.        , 0.0627451 , 0.79607843, 0.99215686,\n",
       "        0.98823529, 0.4627451 , 0.        , 0.        , 0.        ,\n",
       "        0.        , 0.        , 0.        ],\n",
       "       [0.        , 0.        , 0.        , 0.        , 0.        ,\n",
       "        0.        , 0.        , 0.        , 0.        , 0.        ,\n",
       "        0.        , 0.        , 0.        , 0.        , 0.        ,\n",
       "        0.        , 0.10196078, 0.81176471, 0.99215686, 1.        ,\n",
       "        0.65882353, 0.        , 0.        , 0.        , 0.        ,\n",
       "        0.        , 0.        , 0.        ],\n",
       "       [0.        , 0.        , 0.        , 0.        , 0.        ,\n",
       "        0.        , 0.        , 0.        , 0.        , 0.        ,\n",
       "        0.        , 0.        , 0.        , 0.        , 0.        ,\n",
       "        0.        , 0.40784314, 0.98823529, 0.98823529, 0.84313725,\n",
       "        0.12941176, 0.        , 0.        , 0.        , 0.        ,\n",
       "        0.        , 0.        , 0.        ],\n",
       "       [0.        , 0.        , 0.        , 0.        , 0.        ,\n",
       "        0.        , 0.        , 0.        , 0.        , 0.        ,\n",
       "        0.        , 0.        , 0.        , 0.        , 0.        ,\n",
       "        0.2627451 , 0.94117647, 0.98823529, 0.8627451 , 0.12156863,\n",
       "        0.        , 0.        , 0.        , 0.        , 0.        ,\n",
       "        0.        , 0.        , 0.        ],\n",
       "       [0.        , 0.        , 0.        , 0.        , 0.        ,\n",
       "        0.        , 0.        , 0.        , 0.        , 0.        ,\n",
       "        0.        , 0.        , 0.        , 0.        , 0.11372549,\n",
       "        0.70980392, 0.98823529, 0.85098039, 0.14509804, 0.        ,\n",
       "        0.        , 0.        , 0.        , 0.        , 0.        ,\n",
       "        0.        , 0.        , 0.        ],\n",
       "       [0.        , 0.        , 0.        , 0.        , 0.        ,\n",
       "        0.        , 0.        , 0.        , 0.        , 0.        ,\n",
       "        0.        , 0.        , 0.        , 0.        , 0.99215686,\n",
       "        0.98823529, 0.98823529, 0.32941176, 0.        , 0.        ,\n",
       "        0.        , 0.        , 0.        , 0.        , 0.        ,\n",
       "        0.        , 0.        , 0.        ],\n",
       "       [0.        , 0.        , 0.        , 0.        , 0.        ,\n",
       "        0.        , 0.        , 0.        , 0.        , 0.        ,\n",
       "        0.        , 0.        , 0.29803922, 0.74901961, 1.        ,\n",
       "        0.84313725, 0.43137255, 0.        , 0.        , 0.        ,\n",
       "        0.        , 0.        , 0.        , 0.        , 0.        ,\n",
       "        0.        , 0.        , 0.        ],\n",
       "       [0.        , 0.        , 0.        , 0.        , 0.        ,\n",
       "        0.        , 0.        , 0.        , 0.        , 0.        ,\n",
       "        0.        , 0.0745098 , 0.76862745, 0.98823529, 0.99215686,\n",
       "        0.4745098 , 0.        , 0.        , 0.        , 0.        ,\n",
       "        0.        , 0.        , 0.        , 0.        , 0.        ,\n",
       "        0.        , 0.        , 0.        ],\n",
       "       [0.        , 0.        , 0.        , 0.        , 0.        ,\n",
       "        0.        , 0.        , 0.        , 0.        , 0.        ,\n",
       "        0.2627451 , 0.81960784, 0.98823529, 0.98823529, 0.21960784,\n",
       "        0.02352941, 0.        , 0.        , 0.        , 0.        ,\n",
       "        0.        , 0.        , 0.        , 0.        , 0.        ,\n",
       "        0.        , 0.        , 0.        ],\n",
       "       [0.        , 0.        , 0.        , 0.        , 0.        ,\n",
       "        0.        , 0.        , 0.        , 0.        , 0.11372549,\n",
       "        0.70980392, 0.98823529, 0.85098039, 0.32941176, 0.        ,\n",
       "        0.        , 0.        , 0.        , 0.        , 0.        ,\n",
       "        0.        , 0.        , 0.        , 0.        , 0.        ,\n",
       "        0.        , 0.        , 0.        ],\n",
       "       [0.        , 0.        , 0.        , 0.        , 0.        ,\n",
       "        0.        , 0.        , 0.        , 0.        , 0.99215686,\n",
       "        0.98823529, 0.98823529, 0.32941176, 0.        , 0.        ,\n",
       "        0.        , 0.        , 0.        , 0.        , 0.        ,\n",
       "        0.        , 0.        , 0.        , 0.        , 0.        ,\n",
       "        0.        , 0.        , 0.        ],\n",
       "       [0.        , 0.        , 0.        , 0.        , 0.        ,\n",
       "        0.        , 0.        , 0.05098039, 0.74901961, 1.        ,\n",
       "        0.84313725, 0.12156863, 0.        , 0.        , 0.        ,\n",
       "        0.        , 0.        , 0.        , 0.        , 0.        ,\n",
       "        0.        , 0.        , 0.        , 0.        , 0.        ,\n",
       "        0.        , 0.        , 0.        ],\n",
       "       [0.        , 0.        , 0.        , 0.        , 0.        ,\n",
       "        0.        , 0.        , 0.60392157, 0.98823529, 0.99215686,\n",
       "        0.4745098 , 0.        , 0.        , 0.        , 0.        ,\n",
       "        0.        , 0.        , 0.        , 0.        , 0.        ,\n",
       "        0.        , 0.        , 0.        , 0.        , 0.        ,\n",
       "        0.        , 0.        , 0.        ],\n",
       "       [0.        , 0.        , 0.        , 0.        , 0.        ,\n",
       "        0.        , 0.05098039, 0.73333333, 0.98823529, 0.52156863,\n",
       "        0.02352941, 0.        , 0.        , 0.        , 0.        ,\n",
       "        0.        , 0.        , 0.        , 0.        , 0.        ,\n",
       "        0.        , 0.        , 0.        , 0.        , 0.        ,\n",
       "        0.        , 0.        , 0.        ],\n",
       "       [0.        , 0.        , 0.        , 0.        , 0.        ,\n",
       "        0.        , 0.22352941, 0.98823529, 0.98823529, 0.        ,\n",
       "        0.        , 0.        , 0.        , 0.        , 0.        ,\n",
       "        0.        , 0.        , 0.        , 0.        , 0.        ,\n",
       "        0.        , 0.        , 0.        , 0.        , 0.        ,\n",
       "        0.        , 0.        , 0.        ],\n",
       "       [0.        , 0.        , 0.        , 0.        , 0.        ,\n",
       "        0.        , 0.22352941, 0.98823529, 0.98823529, 0.        ,\n",
       "        0.        , 0.        , 0.        , 0.        , 0.        ,\n",
       "        0.        , 0.        , 0.        , 0.        , 0.        ,\n",
       "        0.        , 0.        , 0.        , 0.        , 0.        ,\n",
       "        0.        , 0.        , 0.        ]])"
      ]
     },
     "execution_count": 10,
     "metadata": {},
     "output_type": "execute_result"
    }
   ],
   "source": [
    "x_train0[123]/255"
   ]
  },
  {
   "cell_type": "code",
   "execution_count": 11,
   "metadata": {},
   "outputs": [],
   "source": [
    "x_train = x_train0/255\n",
    "x_test = x_test0/255"
   ]
  },
  {
   "cell_type": "code",
   "execution_count": 12,
   "metadata": {},
   "outputs": [],
   "source": [
    "x_train = x_train.reshape(60000,28,28,1)\n",
    "x_test = x_test.reshape(10000,28,28,1)"
   ]
  },
  {
   "cell_type": "code",
   "execution_count": null,
   "metadata": {},
   "outputs": [],
   "source": []
  },
  {
   "cell_type": "code",
   "execution_count": 13,
   "metadata": {},
   "outputs": [],
   "source": [
    "from keras.layers import Dense,Activation,Flatten\n",
    "from keras.models import Sequential\n",
    "from keras.layers import Conv2D,MaxPool2D\n",
    "from keras import optimizers"
   ]
  },
  {
   "cell_type": "code",
   "execution_count": 14,
   "metadata": {},
   "outputs": [],
   "source": [
    "model = Sequential()"
   ]
  },
  {
   "cell_type": "code",
   "execution_count": 15,
   "metadata": {},
   "outputs": [],
   "source": [
    "model.add(Conv2D(4,(4,4),padding='same',input_shape=(28,28,1)))\n",
    "model.add(Activation('relu'))\n",
    "model.add(MaxPool2D(pool_size=(2, 2)))"
   ]
  },
  {
   "cell_type": "code",
   "execution_count": 16,
   "metadata": {},
   "outputs": [],
   "source": [
    "model.add(Conv2D(8,(4,4),padding='same'))\n",
    "model.add(Activation('relu'))\n",
    "model.add(MaxPool2D(pool_size=(2, 2)))"
   ]
  },
  {
   "cell_type": "code",
   "execution_count": 17,
   "metadata": {},
   "outputs": [],
   "source": [
    "model.add(Conv2D(16,(4,4),padding='same'))\n",
    "model.add(Activation('relu'))\n",
    "model.add(MaxPool2D(pool_size=(2, 2)))"
   ]
  },
  {
   "cell_type": "code",
   "execution_count": 18,
   "metadata": {},
   "outputs": [],
   "source": [
    "model.add(Flatten())\n",
    "model.add(Dense(20))\n",
    "model.add(Activation('relu'))"
   ]
  },
  {
   "cell_type": "code",
   "execution_count": 19,
   "metadata": {},
   "outputs": [],
   "source": [
    "model.add(Dense(10))\n",
    "model.add(Activation('softmax'))"
   ]
  },
  {
   "cell_type": "code",
   "execution_count": 20,
   "metadata": {},
   "outputs": [
    {
     "name": "stdout",
     "output_type": "stream",
     "text": [
      "_________________________________________________________________\n",
      "Layer (type)                 Output Shape              Param #   \n",
      "=================================================================\n",
      "conv2d_1 (Conv2D)            (None, 28, 28, 4)         68        \n",
      "_________________________________________________________________\n",
      "activation_1 (Activation)    (None, 28, 28, 4)         0         \n",
      "_________________________________________________________________\n",
      "max_pooling2d_1 (MaxPooling2 (None, 14, 14, 4)         0         \n",
      "_________________________________________________________________\n",
      "conv2d_2 (Conv2D)            (None, 14, 14, 8)         520       \n",
      "_________________________________________________________________\n",
      "activation_2 (Activation)    (None, 14, 14, 8)         0         \n",
      "_________________________________________________________________\n",
      "max_pooling2d_2 (MaxPooling2 (None, 7, 7, 8)           0         \n",
      "_________________________________________________________________\n",
      "conv2d_3 (Conv2D)            (None, 7, 7, 16)          2064      \n",
      "_________________________________________________________________\n",
      "activation_3 (Activation)    (None, 7, 7, 16)          0         \n",
      "_________________________________________________________________\n",
      "max_pooling2d_3 (MaxPooling2 (None, 3, 3, 16)          0         \n",
      "_________________________________________________________________\n",
      "flatten_1 (Flatten)          (None, 144)               0         \n",
      "_________________________________________________________________\n",
      "dense_1 (Dense)              (None, 20)                2900      \n",
      "_________________________________________________________________\n",
      "activation_4 (Activation)    (None, 20)                0         \n",
      "_________________________________________________________________\n",
      "dense_2 (Dense)              (None, 10)                210       \n",
      "_________________________________________________________________\n",
      "activation_5 (Activation)    (None, 10)                0         \n",
      "=================================================================\n",
      "Total params: 5,762\n",
      "Trainable params: 5,762\n",
      "Non-trainable params: 0\n",
      "_________________________________________________________________\n"
     ]
    }
   ],
   "source": [
    "model.summary()"
   ]
  },
  {
   "cell_type": "code",
   "execution_count": null,
   "metadata": {},
   "outputs": [],
   "source": []
  },
  {
   "cell_type": "markdown",
   "metadata": {},
   "source": [
    "# 動態更改learning rate"
   ]
  },
  {
   "cell_type": "code",
   "execution_count": 21,
   "metadata": {},
   "outputs": [],
   "source": [
    "from keras.callbacks import ReduceLROnPlateau"
   ]
  },
  {
   "cell_type": "code",
   "execution_count": 22,
   "metadata": {},
   "outputs": [],
   "source": [
    "lrfunc = ReduceLROnPlateau(monitor=\"val_acc\",patience=3,factor=0.02,min_lr=0.000001)"
   ]
  },
  {
   "cell_type": "code",
   "execution_count": 23,
   "metadata": {},
   "outputs": [
    {
     "data": {
      "text/plain": [
       "keras.callbacks.ReduceLROnPlateau"
      ]
     },
     "execution_count": 23,
     "metadata": {},
     "output_type": "execute_result"
    }
   ],
   "source": [
    "type(lrfunc)"
   ]
  },
  {
   "cell_type": "code",
   "execution_count": null,
   "metadata": {},
   "outputs": [],
   "source": []
  },
  {
   "cell_type": "code",
   "execution_count": 24,
   "metadata": {},
   "outputs": [],
   "source": [
    "model.compile(optimizer=optimizers.Adam(lr = 0.0005), loss='mse', metrics=['accuracy'])"
   ]
  },
  {
   "cell_type": "code",
   "execution_count": 25,
   "metadata": {},
   "outputs": [
    {
     "name": "stdout",
     "output_type": "stream",
     "text": [
      "Train on 60000 samples, validate on 10000 samples\n",
      "Epoch 1/50\n",
      "60000/60000 [==============================] - 3s 57us/step - loss: 0.0865 - acc: 0.3294 - val_loss: 0.0753 - val_acc: 0.4741\n",
      "Epoch 2/50\n",
      "60000/60000 [==============================] - 1s 24us/step - loss: 0.0501 - acc: 0.6551 - val_loss: 0.0303 - val_acc: 0.8016\n",
      "Epoch 3/50\n",
      "60000/60000 [==============================] - 1s 24us/step - loss: 0.0273 - acc: 0.8163 - val_loss: 0.0234 - val_acc: 0.8409oss: 0.0279 - acc: 0.\n",
      "Epoch 4/50\n",
      "60000/60000 [==============================] - 1s 24us/step - loss: 0.0233 - acc: 0.8404 - val_loss: 0.0216 - val_acc: 0.8514\n",
      "Epoch 5/50\n",
      "60000/60000 [==============================] - 1s 24us/step - loss: 0.0216 - acc: 0.8501 - val_loss: 0.0203 - val_acc: 0.8595\n",
      "Epoch 6/50\n",
      "60000/60000 [==============================] - 1s 24us/step - loss: 0.0207 - acc: 0.8556 - val_loss: 0.0196 - val_acc: 0.8618\n",
      "Epoch 7/50\n",
      "60000/60000 [==============================] - 1s 24us/step - loss: 0.0199 - acc: 0.8599 - val_loss: 0.0191 - val_acc: 0.8651\n",
      "Epoch 8/50\n",
      "60000/60000 [==============================] - 1s 24us/step - loss: 0.0194 - acc: 0.8631 - val_loss: 0.0186 - val_acc: 0.8677\n",
      "Epoch 9/50\n",
      "60000/60000 [==============================] - 1s 24us/step - loss: 0.0139 - acc: 0.9077 - val_loss: 0.0093 - val_acc: 0.9405loss: 0.0144 - acc: 0.90\n",
      "Epoch 10/50\n",
      "60000/60000 [==============================] - 1s 24us/step - loss: 0.0089 - acc: 0.9437 - val_loss: 0.0078 - val_acc: 0.9483A: 0s - loss: 0.009\n",
      "Epoch 11/50\n",
      "60000/60000 [==============================] - 1s 23us/step - loss: 0.0080 - acc: 0.9486 - val_loss: 0.0071 - val_acc: 0.9523\n",
      "Epoch 12/50\n",
      "60000/60000 [==============================] - 1s 24us/step - loss: 0.0074 - acc: 0.9519 - val_loss: 0.0066 - val_acc: 0.9568\n",
      "Epoch 13/50\n",
      "60000/60000 [==============================] - 1s 24us/step - loss: 0.0069 - acc: 0.9550 - val_loss: 0.0064 - val_acc: 0.9566\n",
      "Epoch 14/50\n",
      "60000/60000 [==============================] - 1s 24us/step - loss: 0.0066 - acc: 0.9572 - val_loss: 0.0061 - val_acc: 0.9599: 0s - loss: 0.0066 - acc: 0.95\n",
      "Epoch 15/50\n",
      "60000/60000 [==============================] - 1s 24us/step - loss: 0.0063 - acc: 0.9596 - val_loss: 0.0060 - val_acc: 0.9607\n",
      "Epoch 16/50\n",
      "60000/60000 [==============================] - 1s 24us/step - loss: 0.0060 - acc: 0.9610 - val_loss: 0.0055 - val_acc: 0.9640 0s - loss: 0.0060 - acc: 0 - ETA: 0s - loss: 0.0060 - acc: 0.960\n",
      "Epoch 17/50\n",
      "60000/60000 [==============================] - 1s 24us/step - loss: 0.0058 - acc: 0.9628 - val_loss: 0.0054 - val_acc: 0.9655\n",
      "Epoch 18/50\n",
      "60000/60000 [==============================] - 1s 24us/step - loss: 0.0056 - acc: 0.9639 - val_loss: 0.0053 - val_acc: 0.9644- loss: 0.0056 - acc: 0.963\n",
      "Epoch 19/50\n",
      "60000/60000 [==============================] - 1s 24us/step - loss: 0.0054 - acc: 0.9653 - val_loss: 0.0051 - val_acc: 0.9659\n",
      "Epoch 20/50\n",
      "60000/60000 [==============================] - 1s 24us/step - loss: 0.0052 - acc: 0.9664 - val_loss: 0.0052 - val_acc: 0.96590.0052 - acc: 0.966\n",
      "Epoch 21/50\n",
      "60000/60000 [==============================] - 1s 24us/step - loss: 0.0051 - acc: 0.9672 - val_loss: 0.0049 - val_acc: 0.9678\n",
      "Epoch 22/50\n",
      "60000/60000 [==============================] - 1s 24us/step - loss: 0.0050 - acc: 0.9678 - val_loss: 0.0047 - val_acc: 0.9688\n",
      "Epoch 23/50\n",
      "60000/60000 [==============================] - 1s 24us/step - loss: 0.0048 - acc: 0.9693 - val_loss: 0.0045 - val_acc: 0.9693\n",
      "Epoch 24/50\n",
      "60000/60000 [==============================] - 1s 24us/step - loss: 0.0047 - acc: 0.9699 - val_loss: 0.0043 - val_acc: 0.9718\n",
      "Epoch 25/50\n",
      "60000/60000 [==============================] - ETA: 0s - loss: 0.0046 - acc: 0.9712- ETA: 0s - loss: 0.00 - 1s 24us/step - loss: 0.0046 - acc: 0.9712 - val_loss: 0.0044 - val_acc: 0.9713\n",
      "Epoch 26/50\n",
      "60000/60000 [==============================] - 1s 24us/step - loss: 0.0044 - acc: 0.9719 - val_loss: 0.0043 - val_acc: 0.9722\n",
      "Epoch 27/50\n",
      "60000/60000 [==============================] - 1s 24us/step - loss: 0.0043 - acc: 0.9722 - val_loss: 0.0040 - val_acc: 0.9733\n",
      "Epoch 28/50\n",
      "60000/60000 [==============================] - 1s 23us/step - loss: 0.0043 - acc: 0.9731 - val_loss: 0.0040 - val_acc: 0.9748 0s - loss: 0.0043 - acc:\n",
      "Epoch 29/50\n",
      "60000/60000 [==============================] - 1s 23us/step - loss: 0.0041 - acc: 0.9741 - val_loss: 0.0040 - val_acc: 0.9742: 0s - loss: 0.0043\n",
      "Epoch 30/50\n",
      "60000/60000 [==============================] - 1s 23us/step - loss: 0.0041 - acc: 0.9742 - val_loss: 0.0039 - val_acc: 0.9744\n",
      "Epoch 31/50\n",
      "60000/60000 [==============================] - 1s 24us/step - loss: 0.0039 - acc: 0.9753 - val_loss: 0.0038 - val_acc: 0.9747\n",
      "Epoch 32/50\n",
      "60000/60000 [==============================] - 1s 24us/step - loss: 0.0038 - acc: 0.9764 - val_loss: 0.0037 - val_acc: 0.9756\n",
      "Epoch 33/50\n",
      "60000/60000 [==============================] - 1s 24us/step - loss: 0.0037 - acc: 0.9770 - val_loss: 0.0036 - val_acc: 0.9760\n",
      "Epoch 34/50\n",
      "60000/60000 [==============================] - 1s 24us/step - loss: 0.0037 - acc: 0.9770 - val_loss: 0.0036 - val_acc: 0.9759\n",
      "Epoch 35/50\n",
      "60000/60000 [==============================] - 1s 24us/step - loss: 0.0037 - acc: 0.9769 - val_loss: 0.0036 - val_acc: 0.9760\n",
      "Epoch 36/50\n",
      "60000/60000 [==============================] - 1s 24us/step - loss: 0.0037 - acc: 0.9770 - val_loss: 0.0036 - val_acc: 0.9758\n",
      "Epoch 37/50\n",
      "60000/60000 [==============================] - 1s 24us/step - loss: 0.0037 - acc: 0.9769 - val_loss: 0.0036 - val_acc: 0.9760\n",
      "Epoch 38/50\n",
      "60000/60000 [==============================] - 1s 24us/step - loss: 0.0037 - acc: 0.9769 - val_loss: 0.0036 - val_acc: 0.9760\n",
      "Epoch 39/50\n",
      "60000/60000 [==============================] - ETA: 0s - loss: 0.0037 - acc: 0.977 - 1s 24us/step - loss: 0.0037 - acc: 0.9770 - val_loss: 0.0036 - val_acc: 0.9760\n",
      "Epoch 40/50\n",
      "60000/60000 [==============================] - 1s 24us/step - loss: 0.0037 - acc: 0.9770 - val_loss: 0.0036 - val_acc: 0.9758\n",
      "Epoch 41/50\n",
      "60000/60000 [==============================] - 1s 24us/step - loss: 0.0037 - acc: 0.9770 - val_loss: 0.0036 - val_acc: 0.9758\n",
      "Epoch 42/50\n",
      "60000/60000 [==============================] - 1s 24us/step - loss: 0.0037 - acc: 0.9770 - val_loss: 0.0036 - val_acc: 0.9759loss: 0.0037 - acc: 0.97\n",
      "Epoch 43/50\n",
      "60000/60000 [==============================] - 1s 24us/step - loss: 0.0037 - acc: 0.9771 - val_loss: 0.0036 - val_acc: 0.9759 0s - loss: 0.0038 - a\n",
      "Epoch 44/50\n",
      "60000/60000 [==============================] - 1s 24us/step - loss: 0.0037 - acc: 0.9770 - val_loss: 0.0036 - val_acc: 0.97590s - loss: 0.0037 - acc: 0.977 - ETA: 0s - loss: 0.0037 - acc: 0.\n",
      "Epoch 45/50\n",
      "60000/60000 [==============================] - 1s 24us/step - loss: 0.0037 - acc: 0.9770 - val_loss: 0.0036 - val_acc: 0.9759\n",
      "Epoch 46/50\n",
      "60000/60000 [==============================] - 1s 24us/step - loss: 0.0037 - acc: 0.9770 - val_loss: 0.0036 - val_acc: 0.9759ss: 0.0037 - acc: 0.9\n",
      "Epoch 47/50\n",
      "60000/60000 [==============================] - 1s 24us/step - loss: 0.0037 - acc: 0.9770 - val_loss: 0.0036 - val_acc: 0.9759\n",
      "Epoch 48/50\n",
      "60000/60000 [==============================] - 1s 24us/step - loss: 0.0037 - acc: 0.9770 - val_loss: 0.0036 - val_acc: 0.9759s - loss: 0.0037 - acc: 0.977\n",
      "Epoch 49/50\n",
      "60000/60000 [==============================] - 1s 24us/step - loss: 0.0037 - acc: 0.9770 - val_loss: 0.0036 - val_acc: 0.97590s - loss: 0.0036 - \n",
      "Epoch 50/50\n",
      "60000/60000 [==============================] - 1s 24us/step - loss: 0.0037 - acc: 0.9770 - val_loss: 0.0036 - val_acc: 0.9760A: 0s - loss: 0.0037 - - ETA: 0s - loss: 0.0037 - acc: 0.97\n"
     ]
    },
    {
     "data": {
      "text/plain": [
       "<keras.callbacks.History at 0x153d8efaef0>"
      ]
     },
     "execution_count": 25,
     "metadata": {},
     "output_type": "execute_result"
    }
   ],
   "source": [
    "model.fit(x_train,y_train,batch_size=1000,epochs=50,\n",
    "          validation_data=(x_test,y_test),\n",
    "          callbacks=[lrfunc])"
   ]
  },
  {
   "cell_type": "code",
   "execution_count": null,
   "metadata": {},
   "outputs": [],
   "source": []
  }
 ],
 "metadata": {
  "kernelspec": {
   "display_name": "Python 3",
   "language": "python",
   "name": "python3"
  },
  "language_info": {
   "codemirror_mode": {
    "name": "ipython",
    "version": 3
   },
   "file_extension": ".py",
   "mimetype": "text/x-python",
   "name": "python",
   "nbconvert_exporter": "python",
   "pygments_lexer": "ipython3",
   "version": "3.6.5"
  }
 },
 "nbformat": 4,
 "nbformat_minor": 2
}
