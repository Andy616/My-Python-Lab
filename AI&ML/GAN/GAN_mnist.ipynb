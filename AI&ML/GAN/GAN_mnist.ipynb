{
  "nbformat": 4,
  "nbformat_minor": 0,
  "metadata": {
    "kernelspec": {
      "name": "python3",
      "display_name": "Python 3"
    },
    "language_info": {
      "codemirror_mode": {
        "name": "ipython",
        "version": 3
      },
      "file_extension": ".py",
      "mimetype": "text/x-python",
      "name": "python",
      "nbconvert_exporter": "python",
      "pygments_lexer": "ipython3",
      "version": "3.7.4"
    },
    "colab": {
      "name": "GAN_mnist.ipynb",
      "provenance": [],
      "collapsed_sections": []
    },
    "accelerator": "GPU"
  },
  "cells": [
    {
      "cell_type": "code",
      "metadata": {
        "id": "Kb50WHLYeTcP",
        "colab_type": "code",
        "outputId": "ca81451e-a393-4304-fd87-e91c204949b5",
        "colab": {
          "base_uri": "https://localhost:8080/",
          "height": 79
        }
      },
      "source": [
        "import matplotlib.pyplot as plt\n",
        "import tensorflow as tf\n",
        "import numpy as np\n",
        "from IPython import display"
      ],
      "execution_count": 1,
      "outputs": [
        {
          "output_type": "display_data",
          "data": {
            "text/html": [
              "<p style=\"color: red;\">\n",
              "The default version of TensorFlow in Colab will soon switch to TensorFlow 2.x.<br>\n",
              "We recommend you <a href=\"https://www.tensorflow.org/guide/migrate\" target=\"_blank\">upgrade</a> now \n",
              "or ensure your notebook will continue to use TensorFlow 1.x via the <code>%tensorflow_version 1.x</code> magic:\n",
              "<a href=\"https://colab.research.google.com/notebooks/tensorflow_version.ipynb\" target=\"_blank\">more info</a>.</p>\n"
            ],
            "text/plain": [
              "<IPython.core.display.HTML object>"
            ]
          },
          "metadata": {
            "tags": []
          }
        }
      ]
    },
    {
      "cell_type": "code",
      "metadata": {
        "id": "LJy2MyFseTcc",
        "colab_type": "code",
        "colab": {}
      },
      "source": [
        "(x_train, y_train), (x_test, y_test) = tf.keras.datasets.mnist.load_data()"
      ],
      "execution_count": 0,
      "outputs": []
    },
    {
      "cell_type": "code",
      "metadata": {
        "id": "9B9t4kFveTcv",
        "colab_type": "code",
        "colab": {}
      },
      "source": [
        "tf.enable_eager_execution()"
      ],
      "execution_count": 0,
      "outputs": []
    },
    {
      "cell_type": "code",
      "metadata": {
        "id": "Hvs1mM0F-IWh",
        "colab_type": "code",
        "colab": {
          "base_uri": "https://localhost:8080/",
          "height": 34
        },
        "outputId": "65acb8e3-42bf-4784-848f-d0069dbe46eb"
      },
      "source": [
        "%mkdir train_figs"
      ],
      "execution_count": 4,
      "outputs": [
        {
          "output_type": "stream",
          "text": [
            "mkdir: cannot create directory ‘train_figs’: File exists\n"
          ],
          "name": "stdout"
        }
      ]
    },
    {
      "cell_type": "markdown",
      "metadata": {
        "id": "xyQkDFiZeTc2",
        "colab_type": "text"
      },
      "source": [
        "# Genertaor"
      ]
    },
    {
      "cell_type": "code",
      "metadata": {
        "id": "DjLvuJZkeTc4",
        "colab_type": "code",
        "colab": {}
      },
      "source": [
        "def generator():\n",
        "    model = tf.keras.Sequential([\n",
        "            tf.keras.layers.Dense(7*7*64, use_bias=False, input_shape=(100,), \n",
        "                                  kernel_initializer = tf.keras.initializers.RandomNormal(mean=0.0, stddev = 0.02)),\n",
        "            tf.keras.layers.Reshape((7,7,64)),\n",
        "\n",
        "            tf.keras.layers.BatchNormalization(),\n",
        "            tf.keras.layers.ReLU(),\n",
        "            tf.keras.layers.Conv2DTranspose(64, (5, 5), strides=(2, 2), padding='same',\n",
        "                                            kernel_initializer = tf.keras.initializers.RandomNormal(mean=0.0, stddev = 0.02)),                                 \n",
        "            \n",
        "            tf.keras.layers.BatchNormalization(),\n",
        "            tf.keras.layers.ReLU(),\n",
        "            tf.keras.layers.Conv2DTranspose(32, (5, 5), strides=(2, 2), padding='same',\n",
        "                                            kernel_initializer = tf.keras.initializers.RandomNormal(mean=0.0, stddev = 0.02)),\n",
        "                                 \n",
        "            tf.keras.layers.BatchNormalization(),\n",
        "            tf.keras.layers.ReLU(),\n",
        "            tf.keras.layers.Conv2DTranspose(16, (5, 5), strides=(1, 1), padding='same',\n",
        "                                            kernel_initializer = tf.keras.initializers.RandomNormal(mean=0.0, stddev = 0.02)),\n",
        "                                 \n",
        "            tf.keras.layers.BatchNormalization(),\n",
        "            tf.keras.layers.ReLU(),\n",
        "            tf.keras.layers.Conv2DTranspose(1, (5, 5), strides=(1, 1), padding='same', activation='tanh',\n",
        "                                           kernel_initializer = tf.keras.initializers.RandomNormal(mean=0.0, stddev = 0.02))\n",
        "    ]) \n",
        "    return model"
      ],
      "execution_count": 0,
      "outputs": []
    },
    {
      "cell_type": "code",
      "metadata": {
        "id": "Xd6IrmpgeTdD",
        "colab_type": "code",
        "colab": {}
      },
      "source": [
        "gen = generator()"
      ],
      "execution_count": 0,
      "outputs": []
    },
    {
      "cell_type": "code",
      "metadata": {
        "id": "Lqzhhi8neTdM",
        "colab_type": "code",
        "outputId": "ffd7f811-df4b-4c27-d960-52693a79e3c9",
        "colab": {
          "base_uri": "https://localhost:8080/",
          "height": 622
        }
      },
      "source": [
        "gen.summary()"
      ],
      "execution_count": 7,
      "outputs": [
        {
          "output_type": "stream",
          "text": [
            "Model: \"sequential\"\n",
            "_________________________________________________________________\n",
            "Layer (type)                 Output Shape              Param #   \n",
            "=================================================================\n",
            "dense (Dense)                (None, 3136)              313600    \n",
            "_________________________________________________________________\n",
            "reshape (Reshape)            (None, 7, 7, 64)          0         \n",
            "_________________________________________________________________\n",
            "batch_normalization (BatchNo (None, 7, 7, 64)          256       \n",
            "_________________________________________________________________\n",
            "re_lu (ReLU)                 (None, 7, 7, 64)          0         \n",
            "_________________________________________________________________\n",
            "conv2d_transpose (Conv2DTran (None, 14, 14, 64)        102464    \n",
            "_________________________________________________________________\n",
            "batch_normalization_1 (Batch (None, 14, 14, 64)        256       \n",
            "_________________________________________________________________\n",
            "re_lu_1 (ReLU)               (None, 14, 14, 64)        0         \n",
            "_________________________________________________________________\n",
            "conv2d_transpose_1 (Conv2DTr (None, 28, 28, 32)        51232     \n",
            "_________________________________________________________________\n",
            "batch_normalization_2 (Batch (None, 28, 28, 32)        128       \n",
            "_________________________________________________________________\n",
            "re_lu_2 (ReLU)               (None, 28, 28, 32)        0         \n",
            "_________________________________________________________________\n",
            "conv2d_transpose_2 (Conv2DTr (None, 28, 28, 16)        12816     \n",
            "_________________________________________________________________\n",
            "batch_normalization_3 (Batch (None, 28, 28, 16)        64        \n",
            "_________________________________________________________________\n",
            "re_lu_3 (ReLU)               (None, 28, 28, 16)        0         \n",
            "_________________________________________________________________\n",
            "conv2d_transpose_3 (Conv2DTr (None, 28, 28, 1)         401       \n",
            "=================================================================\n",
            "Total params: 481,217\n",
            "Trainable params: 480,865\n",
            "Non-trainable params: 352\n",
            "_________________________________________________________________\n"
          ],
          "name": "stdout"
        }
      ]
    },
    {
      "cell_type": "code",
      "metadata": {
        "id": "0b_MPobaeTdy",
        "colab_type": "code",
        "colab": {}
      },
      "source": [
        ""
      ],
      "execution_count": 0,
      "outputs": []
    },
    {
      "cell_type": "markdown",
      "metadata": {
        "id": "SE2JQWUjeTd3",
        "colab_type": "text"
      },
      "source": [
        "# Discriminator"
      ]
    },
    {
      "cell_type": "code",
      "metadata": {
        "id": "9mSl9beUeTd5",
        "colab_type": "code",
        "colab": {}
      },
      "source": [
        "def discriminator():\n",
        "    \n",
        "    model = tf.keras.Sequential([\n",
        "        tf.keras.layers.Conv2D(16, (5,5), strides=(2,2), padding='same', input_shape=(28,28,1),\n",
        "                              kernel_initializer = tf.keras.initializers.RandomNormal(mean=0.0, stddev = 0.02)),\n",
        "        tf.keras.layers.LeakyReLU(0.2),\n",
        "\n",
        "        tf.keras.layers.Conv2D(32, (5, 5), strides=(2, 2), padding='same',\n",
        "                              kernel_initializer = tf.keras.initializers.RandomNormal(mean=0.0, stddev = 0.02)),\n",
        "        tf.keras.layers.BatchNormalization(),\n",
        "        tf.keras.layers.LeakyReLU(0.2),\n",
        "\n",
        "        tf.keras.layers.Conv2D(64, (5, 5), strides=(1, 1), padding='same', \n",
        "                              kernel_initializer = tf.keras.initializers.RandomNormal(mean=0.0, stddev = 0.02)),\n",
        "        tf.keras.layers.BatchNormalization(),\n",
        "        tf.keras.layers.LeakyReLU(0.2),\n",
        "\n",
        "        tf.keras.layers.Flatten(),\n",
        "        tf.keras.layers.Dense(1, activation=tf.keras.activations.sigmoid)\n",
        "    ])\n",
        "    \n",
        "    return model"
      ],
      "execution_count": 0,
      "outputs": []
    },
    {
      "cell_type": "code",
      "metadata": {
        "id": "mhgFhEBseTd-",
        "colab_type": "code",
        "colab": {}
      },
      "source": [
        "dis = discriminator()"
      ],
      "execution_count": 0,
      "outputs": []
    },
    {
      "cell_type": "code",
      "metadata": {
        "id": "PX8USRgQeTeE",
        "colab_type": "code",
        "outputId": "e23969ee-66b6-407b-ee2a-dc02e0a098a8",
        "colab": {
          "base_uri": "https://localhost:8080/",
          "height": 487
        }
      },
      "source": [
        "dis.summary()"
      ],
      "execution_count": 10,
      "outputs": [
        {
          "output_type": "stream",
          "text": [
            "Model: \"sequential_1\"\n",
            "_________________________________________________________________\n",
            "Layer (type)                 Output Shape              Param #   \n",
            "=================================================================\n",
            "conv2d (Conv2D)              (None, 14, 14, 16)        416       \n",
            "_________________________________________________________________\n",
            "leaky_re_lu (LeakyReLU)      (None, 14, 14, 16)        0         \n",
            "_________________________________________________________________\n",
            "conv2d_1 (Conv2D)            (None, 7, 7, 32)          12832     \n",
            "_________________________________________________________________\n",
            "batch_normalization_4 (Batch (None, 7, 7, 32)          128       \n",
            "_________________________________________________________________\n",
            "leaky_re_lu_1 (LeakyReLU)    (None, 7, 7, 32)          0         \n",
            "_________________________________________________________________\n",
            "conv2d_2 (Conv2D)            (None, 7, 7, 64)          51264     \n",
            "_________________________________________________________________\n",
            "batch_normalization_5 (Batch (None, 7, 7, 64)          256       \n",
            "_________________________________________________________________\n",
            "leaky_re_lu_2 (LeakyReLU)    (None, 7, 7, 64)          0         \n",
            "_________________________________________________________________\n",
            "flatten (Flatten)            (None, 3136)              0         \n",
            "_________________________________________________________________\n",
            "dense_1 (Dense)              (None, 1)                 3137      \n",
            "=================================================================\n",
            "Total params: 68,033\n",
            "Trainable params: 67,841\n",
            "Non-trainable params: 192\n",
            "_________________________________________________________________\n"
          ],
          "name": "stdout"
        }
      ]
    },
    {
      "cell_type": "code",
      "metadata": {
        "id": "Q-XXcdFCeTeT",
        "colab_type": "code",
        "colab": {}
      },
      "source": [
        ""
      ],
      "execution_count": 0,
      "outputs": []
    },
    {
      "cell_type": "markdown",
      "metadata": {
        "id": "AFLiCltXeTeX",
        "colab_type": "text"
      },
      "source": [
        "# Loss function"
      ]
    },
    {
      "cell_type": "code",
      "metadata": {
        "id": "J8UdK0RneTeZ",
        "colab_type": "code",
        "colab": {}
      },
      "source": [
        "def G_loss(fake_pics):\n",
        "    # labels = 1, try to fool D \n",
        "    loss = tf.nn.sigmoid_cross_entropy_with_logits\n",
        "    return loss(labels=tf.ones_like(fake_pics), logits=fake_pics)\n",
        "\n",
        "def D_loss(real_pics, fake_pics):\n",
        "    loss = tf.nn.sigmoid_cross_entropy_with_logits\n",
        "    real_pic_loss = loss(labels=tf.ones_like(real_pics), logits= real_pics)\n",
        "    fake_pic_loss = loss(labels=tf.zeros_like(fake_pics), logits= fake_pics)\n",
        "    total_loss = real_pic_loss + fake_pic_loss\n",
        "    return total_loss"
      ],
      "execution_count": 0,
      "outputs": []
    },
    {
      "cell_type": "markdown",
      "metadata": {
        "id": "DlMk0vB2eTek",
        "colab_type": "text"
      },
      "source": [
        "# Opimizers"
      ]
    },
    {
      "cell_type": "code",
      "metadata": {
        "id": "XbSk7XL3eTem",
        "colab_type": "code",
        "colab": {}
      },
      "source": [
        "gen_optimizer = tf.keras.optimizers.Adam(2e-4, 0.5)\n",
        "dis_optimizer = tf.keras.optimizers.Adam(2e-4, 0.5)"
      ],
      "execution_count": 0,
      "outputs": []
    },
    {
      "cell_type": "code",
      "metadata": {
        "id": "XZpSAaSheTet",
        "colab_type": "code",
        "colab": {}
      },
      "source": [
        ""
      ],
      "execution_count": 0,
      "outputs": []
    },
    {
      "cell_type": "markdown",
      "metadata": {
        "id": "69YxspuoeTey",
        "colab_type": "text"
      },
      "source": [
        "# Train"
      ]
    },
    {
      "cell_type": "code",
      "metadata": {
        "id": "ksn1vJKSeTe0",
        "colab_type": "code",
        "colab": {}
      },
      "source": [
        "@tf.function\n",
        "def train_step(real_pics):\n",
        "    \n",
        "    noise = tf.random.normal([BATCH_SIZE, noise_dim])\n",
        "    \n",
        "    with tf.GradientTape() as gen_tape, tf.GradientTape() as dis_tape:\n",
        "        generated_pics = gen(noise, training=True)\n",
        "        fake_pics = dis(generated_pics, training=True)\n",
        "        real_pics = dis(real_pics, training=True)\n",
        "\n",
        "        generator_loss = G_loss(fake_pics)\n",
        "        discriminator_loss = D_loss(real_pics, fake_pics)\n",
        "\n",
        "    # Compute each variables' gradients\n",
        "    gen_gradients = gen_tape.gradient(generator_loss, gen.trainable_variables)\n",
        "    dis_gradients = dis_tape.gradient(discriminator_loss, dis.trainable_variables)\n",
        "    # Update each variable\n",
        "    gen_optimizer.apply_gradients(zip(gen_gradients, gen.trainable_variables))\n",
        "    dis_optimizer.apply_gradients(zip(dis_gradients, dis.trainable_variables))"
      ],
      "execution_count": 0,
      "outputs": []
    },
    {
      "cell_type": "code",
      "metadata": {
        "id": "9Dezd3v5eTe4",
        "colab_type": "code",
        "colab": {}
      },
      "source": [
        "def generate_and_save_image(model, test_input, epoch):\n",
        "#notice that training should set to false as it is inference mode\n",
        "    prediction = model(test_input, training = False)\n",
        "    prediction = prediction.numpy()\n",
        "    fig = plt.figure(figsize=(4,4))\n",
        "    for i in range(prediction.shape[0]):\n",
        "        plt.subplot(4, 4, i+1)\n",
        "        plt.imshow(prediction[i].reshape(28,28), cmap='gray', vmin=0., vmax=1.)\n",
        "        plt.axis(\"off\")\n",
        "    plt.savefig(f'train_figs/train_{epoch}.png')\n",
        "    plt.show()"
      ],
      "execution_count": 0,
      "outputs": []
    },
    {
      "cell_type": "code",
      "metadata": {
        "id": "n7geSKaXeTe9",
        "colab_type": "code",
        "colab": {}
      },
      "source": [
        "def train(train_data, epochs):\n",
        "    \n",
        "    for epoch in range(epochs):\n",
        "        print(\"Epoch:\", epoch+1)\n",
        "        seed = tf.random.normal([numbers_to_generate, noise_dim])\n",
        "        for img_batch in train_data:\n",
        "            train_step(img_batch)\n",
        "        display.clear_output(wait=True)\n",
        "        generate_and_save_image(gen, seed, epoch)\n",
        "    display.clear_output(wait=True)   \n",
        "    generate_and_save_image(gen, seed, epoch)"
      ],
      "execution_count": 0,
      "outputs": []
    },
    {
      "cell_type": "code",
      "metadata": {
        "id": "7N0jKM5XeTfJ",
        "colab_type": "code",
        "colab": {}
      },
      "source": [
        "BUFFER_SIZE = x_train.shape[0]\n",
        "train_num = int(np.floor(x_train.shape[0]/128)*128)\n",
        "BATCH_SIZE = 128\n",
        "\n",
        "x_train = ((x_train.astype(\"float32\")-127.5)/127.5).reshape(60000,28,28,1)\n",
        "train_data = tf.data.Dataset.from_tensor_slices(x_train[:train_num]).shuffle(BUFFER_SIZE).batch(BATCH_SIZE)\n",
        "numbers_to_generate = 16\n",
        "noise_dim = 100"
      ],
      "execution_count": 0,
      "outputs": []
    },
    {
      "cell_type": "markdown",
      "metadata": {
        "id": "s2DfofxPZZHS",
        "colab_type": "text"
      },
      "source": [
        ""
      ]
    },
    {
      "cell_type": "code",
      "metadata": {
        "id": "GNMm2c0EeTfO",
        "colab_type": "code",
        "colab": {}
      },
      "source": [
        ""
      ],
      "execution_count": 0,
      "outputs": []
    },
    {
      "cell_type": "code",
      "metadata": {
        "id": "fZguoPTweTfT",
        "colab_type": "code",
        "outputId": "1d734524-1a60-4d05-e66f-cf8e4b656d90",
        "colab": {
          "base_uri": "https://localhost:8080/",
          "height": 248
        }
      },
      "source": [
        "train(train_data, 300)"
      ],
      "execution_count": 17,
      "outputs": [
        {
          "output_type": "display_data",
          "data": {
            "image/png": "[encoded data removed]",
            "text/plain": [
              "<Figure size 288x288 with 16 Axes>"
            ]
          },
          "metadata": {
            "tags": []
          }
        }
      ]
    },
    {
      "cell_type": "code",
      "metadata": {
        "colab_type": "code",
        "id": "h8JhDG08mC9f",
        "outputId": "2c058461-c529-4bc0-cc1a-3d4d7e387d5e",
        "colab": {
          "base_uri": "https://localhost:8080/",
          "height": 34
        }
      },
      "source": [
        "import shutil\n",
        "shutil.make_archive('train_figs', 'zip', 'train_figs')"
      ],
      "execution_count": 18,
      "outputs": [
        {
          "output_type": "execute_result",
          "data": {
            "text/plain": [
              "'/content/train_figs.zip'"
            ]
          },
          "metadata": {
            "tags": []
          },
          "execution_count": 18
        }
      ]
    }
  ]
}