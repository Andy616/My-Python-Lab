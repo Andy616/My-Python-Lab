{
  "nbformat": 4,
  "nbformat_minor": 0,
  "metadata": {
    "accelerator": "GPU",
    "colab": {
      "name": "CGAN_mnist.ipynb",
      "provenance": [],
      "collapsed_sections": []
    },
    "kernelspec": {
      "display_name": "Python 3",
      "language": "python",
      "name": "python3"
    },
    "language_info": {
      "codemirror_mode": {
        "name": "ipython",
        "version": 3
      },
      "file_extension": ".py",
      "mimetype": "text/x-python",
      "name": "python",
      "nbconvert_exporter": "python",
      "pygments_lexer": "ipython3",
      "version": "3.7.4"
    }
  },
  "cells": [
    {
      "cell_type": "code",
      "metadata": {
        "colab_type": "code",
        "id": "Kb50WHLYeTcP",
        "outputId": "a910643e-3c16-4b33-96a4-1a76fc4acafb",
        "colab": {
          "base_uri": "https://localhost:8080/",
          "height": 62
        }
      },
      "source": [
        "import matplotlib.pyplot as plt\n",
        "import tensorflow as tf\n",
        "import numpy as np\n",
        "from IPython import display\n",
        "import os"
      ],
      "execution_count": 1,
      "outputs": [
        {
          "output_type": "display_data",
          "data": {
            "text/html": [
              "<p style=\"color: red;\">\n",
              "The default version of TensorFlow in Colab will soon switch to TensorFlow 2.x.<br>\n",
              "We recommend you <a href=\"https://www.tensorflow.org/guide/migrate\" target=\"_blank\">upgrade</a> now \n",
              "or ensure your notebook will continue to use TensorFlow 1.x via the <code>%tensorflow_version 1.x</code> magic:\n",
              "<a href=\"https://colab.research.google.com/notebooks/tensorflow_version.ipynb\" target=\"_blank\">more info</a>.</p>\n"
            ],
            "text/plain": [
              "<IPython.core.display.HTML object>"
            ]
          },
          "metadata": {
            "tags": []
          }
        }
      ]
    },
    {
      "cell_type": "code",
      "metadata": {
        "id": "754Nmpi_Pk7O",
        "colab_type": "code",
        "colab": {}
      },
      "source": [
        "tf.enable_eager_execution()"
      ],
      "execution_count": 0,
      "outputs": []
    },
    {
      "cell_type": "code",
      "metadata": {
        "colab_type": "code",
        "id": "LJy2MyFseTcc",
        "colab": {}
      },
      "source": [
        "(x_train, y_train), (x_test, y_test) = tf.keras.datasets.mnist.load_data()"
      ],
      "execution_count": 0,
      "outputs": []
    },
    {
      "cell_type": "code",
      "metadata": {
        "colab_type": "code",
        "id": "7N0jKM5XeTfJ",
        "colab": {}
      },
      "source": [
        "BUFFER_SIZE = x_train.shape[0]\n",
        "train_num = int(np.floor(x_train.shape[0]/128)*128)\n",
        "BATCH_SIZE = 128\n",
        "\n",
        "x = ((x_train.astype(\"float32\")-127.5)/127.5).reshape(60000,28,28,1)\n",
        "y = y_train.reshape(-1, 1) # y_train.shape : (60000,) --> (60000,1) "
      ],
      "execution_count": 0,
      "outputs": []
    },
    {
      "cell_type": "code",
      "metadata": {
        "colab_type": "code",
        "id": "G9iL_qumPk7l",
        "colab": {}
      },
      "source": [
        "train_data_x = tf.data.Dataset.from_tensor_slices(x[:train_num]).batch(BATCH_SIZE)\n",
        "train_data_y = tf.data.Dataset.from_tensor_slices(y[:train_num]).batch(BATCH_SIZE)\n",
        "numbers_to_generate = 100\n",
        "noise_dim = 100"
      ],
      "execution_count": 0,
      "outputs": []
    },
    {
      "cell_type": "code",
      "metadata": {
        "colab_type": "code",
        "id": "Hvs1mM0F-IWh",
        "colab": {}
      },
      "source": [
        "path = 'train_figs'\n",
        "if not os.path.isdir(path):\n",
        "    os.mkdir(path)"
      ],
      "execution_count": 0,
      "outputs": []
    },
    {
      "cell_type": "markdown",
      "metadata": {
        "colab_type": "text",
        "id": "xyQkDFiZeTc2"
      },
      "source": [
        "# Generator"
      ]
    },
    {
      "cell_type": "code",
      "metadata": {
        "id": "Ak3BqVyePk7-",
        "colab_type": "code",
        "colab": {}
      },
      "source": [
        "from tensorflow.keras import Input, Model\n",
        "from tensorflow.keras.layers import Dense, Reshape, BatchNormalization, ReLU, LeakyReLU, Conv2DTranspose, Flatten, concatenate, Embedding, Conv2D, Dropout\n",
        "from tensorflow.keras.initializers import RandomNormal"
      ],
      "execution_count": 0,
      "outputs": []
    },
    {
      "cell_type": "code",
      "metadata": {
        "colab_type": "code",
        "id": "DjLvuJZkeTc4",
        "colab": {}
      },
      "source": [
        "def generator():\n",
        "    \n",
        "    noise = Input(shape=(noise_dim,), name = 'noise')\n",
        "    label = Input(shape=(10,), name = 'label') # 10 categories\n",
        "    \n",
        "    input1 = Reshape((7,7,128))(Dense(7*7*128, use_bias=False, kernel_initializer = RandomNormal(mean=0.0, stddev = 0.02))(noise))\n",
        "    input2 = Reshape((7,7,1))(Dense(49, use_bias=False, kernel_initializer = RandomNormal(mean=0.0, stddev = 0.02))(Embedding(10, 100)(label)))\n",
        "    \n",
        "    h1 = ReLU()(BatchNormalization()(concatenate([input1, input2])))\n",
        "    \n",
        "    h2 = Conv2DTranspose(128, (5, 5), strides=(2, 2), padding='same', kernel_initializer = RandomNormal(mean=0.0, stddev = 0.02))(h1)\n",
        "    h_2 = ReLU()(BatchNormalization()(h2))\n",
        "    \n",
        "    h3 = Conv2DTranspose(64, (5, 5), strides=(2, 2), padding='same', kernel_initializer = RandomNormal(mean=0.0, stddev = 0.02))(h_2)\n",
        "    h_3 = ReLU()(BatchNormalization()(h3))\n",
        "    \n",
        "    h4 = Conv2DTranspose(32, (5, 5), strides=(1, 1), padding='same', kernel_initializer = RandomNormal(mean=0.0, stddev = 0.02))(h_3)\n",
        "    h_4 = ReLU()(BatchNormalization()(h4))\n",
        "    \n",
        "    gen_pics = Conv2DTranspose(1, (5, 5), strides=(1, 1), padding='same', activation='tanh', kernel_initializer = RandomNormal(mean=0.0, stddev = 0.02))(h_4)    \n",
        "    \n",
        "    return Model(inputs=[noise, label], outputs=gen_pics)"
      ],
      "execution_count": 0,
      "outputs": []
    },
    {
      "cell_type": "code",
      "metadata": {
        "id": "zYDpmnxUPk8O",
        "colab_type": "code",
        "colab": {}
      },
      "source": [
        "gen = generator()"
      ],
      "execution_count": 0,
      "outputs": []
    },
    {
      "cell_type": "code",
      "metadata": {
        "colab_type": "code",
        "id": "Lqzhhi8neTdM",
        "outputId": "02396690-f9a2-42f6-bc24-34ab41c926fd",
        "colab": {
          "base_uri": "https://localhost:8080/",
          "height": 840
        }
      },
      "source": [
        "gen.summary()"
      ],
      "execution_count": 10,
      "outputs": [
        {
          "output_type": "stream",
          "text": [
            "Model: \"model\"\n",
            "__________________________________________________________________________________________________\n",
            "Layer (type)                    Output Shape         Param #     Connected to                     \n",
            "==================================================================================================\n",
            "label (InputLayer)              [(None, 10)]         0                                            \n",
            "__________________________________________________________________________________________________\n",
            "noise (InputLayer)              [(None, 100)]        0                                            \n",
            "__________________________________________________________________________________________________\n",
            "embedding (Embedding)           (None, 10, 100)      1000        label[0][0]                      \n",
            "__________________________________________________________________________________________________\n",
            "dense (Dense)                   (None, 6272)         627200      noise[0][0]                      \n",
            "__________________________________________________________________________________________________\n",
            "dense_1 (Dense)                 (None, 10, 49)       4900        embedding[0][0]                  \n",
            "__________________________________________________________________________________________________\n",
            "reshape (Reshape)               (None, 7, 7, 128)    0           dense[0][0]                      \n",
            "__________________________________________________________________________________________________\n",
            "reshape_1 (Reshape)             (None, 7, 7, 1)      0           dense_1[0][0]                    \n",
            "__________________________________________________________________________________________________\n",
            "concatenate (Concatenate)       (None, 7, 7, 129)    0           reshape[0][0]                    \n",
            "                                                                 reshape_1[0][0]                  \n",
            "__________________________________________________________________________________________________\n",
            "batch_normalization (BatchNorma (None, 7, 7, 129)    516         concatenate[0][0]                \n",
            "__________________________________________________________________________________________________\n",
            "re_lu (ReLU)                    (None, 7, 7, 129)    0           batch_normalization[0][0]        \n",
            "__________________________________________________________________________________________________\n",
            "conv2d_transpose (Conv2DTranspo (None, 14, 14, 128)  412928      re_lu[0][0]                      \n",
            "__________________________________________________________________________________________________\n",
            "batch_normalization_1 (BatchNor (None, 14, 14, 128)  512         conv2d_transpose[0][0]           \n",
            "__________________________________________________________________________________________________\n",
            "re_lu_1 (ReLU)                  (None, 14, 14, 128)  0           batch_normalization_1[0][0]      \n",
            "__________________________________________________________________________________________________\n",
            "conv2d_transpose_1 (Conv2DTrans (None, 28, 28, 64)   204864      re_lu_1[0][0]                    \n",
            "__________________________________________________________________________________________________\n",
            "batch_normalization_2 (BatchNor (None, 28, 28, 64)   256         conv2d_transpose_1[0][0]         \n",
            "__________________________________________________________________________________________________\n",
            "re_lu_2 (ReLU)                  (None, 28, 28, 64)   0           batch_normalization_2[0][0]      \n",
            "__________________________________________________________________________________________________\n",
            "conv2d_transpose_2 (Conv2DTrans (None, 28, 28, 32)   51232       re_lu_2[0][0]                    \n",
            "__________________________________________________________________________________________________\n",
            "batch_normalization_3 (BatchNor (None, 28, 28, 32)   128         conv2d_transpose_2[0][0]         \n",
            "__________________________________________________________________________________________________\n",
            "re_lu_3 (ReLU)                  (None, 28, 28, 32)   0           batch_normalization_3[0][0]      \n",
            "__________________________________________________________________________________________________\n",
            "conv2d_transpose_3 (Conv2DTrans (None, 28, 28, 1)    801         re_lu_3[0][0]                    \n",
            "==================================================================================================\n",
            "Total params: 1,304,337\n",
            "Trainable params: 1,303,631\n",
            "Non-trainable params: 706\n",
            "__________________________________________________________________________________________________\n"
          ],
          "name": "stdout"
        }
      ]
    },
    {
      "cell_type": "code",
      "metadata": {
        "id": "rnXOdDWmPk81",
        "colab_type": "code",
        "colab": {}
      },
      "source": [
        ""
      ],
      "execution_count": 0,
      "outputs": []
    },
    {
      "cell_type": "markdown",
      "metadata": {
        "colab_type": "text",
        "id": "SE2JQWUjeTd3"
      },
      "source": [
        "# Discriminator"
      ]
    },
    {
      "cell_type": "code",
      "metadata": {
        "colab_type": "code",
        "id": "9mSl9beUeTd5",
        "colab": {}
      },
      "source": [
        "def discriminator():\n",
        "    \n",
        "    pic = Input(shape=(28, 28, 1), name='picture') # input1\n",
        "    pic_label = Input(shape=(10,), name='label')\n",
        "    input2=Reshape((28,28,1))(Dense(28*28, use_bias=False, kernel_initializer = RandomNormal(mean=0.0, stddev = 0.02))(Embedding(10, 100)(pic_label)))\n",
        "    \n",
        "    conv_1 = Conv2D(32, (5,5), strides=(2,2), padding='same', kernel_initializer = RandomNormal(mean=0.0, stddev = 0.02))(concatenate([pic, input2]))\n",
        "    h1 = LeakyReLU(0.2)(conv_1)\n",
        "\n",
        "    conv_2 = Conv2D(64, (5, 5), strides=(2, 2), padding='same', kernel_initializer = RandomNormal(mean=0.0, stddev = 0.02))(h1)    \n",
        "    h2 = LeakyReLU(0.2)(BatchNormalization()(conv_2))\n",
        "\n",
        "    conv_3 = Conv2D(128, (5, 5), strides=(1, 1), padding='same', kernel_initializer = RandomNormal(mean=0.0, stddev = 0.02))(h2)    \n",
        "    h3 = LeakyReLU(0.2)(BatchNormalization()(conv_3))\n",
        "\n",
        "    output = Dense(1, activation='sigmoid')(Flatten()(h3))\n",
        "    \n",
        "    return Model(inputs=[pic, pic_label], outputs=output)"
      ],
      "execution_count": 0,
      "outputs": []
    },
    {
      "cell_type": "code",
      "metadata": {
        "colab_type": "code",
        "id": "mhgFhEBseTd-",
        "colab": {}
      },
      "source": [
        "dis = discriminator()"
      ],
      "execution_count": 0,
      "outputs": []
    },
    {
      "cell_type": "code",
      "metadata": {
        "colab_type": "code",
        "id": "PX8USRgQeTeE",
        "outputId": "515d8c4e-71d9-4970-ea7d-d601c8518d52",
        "colab": {
          "base_uri": "https://localhost:8080/",
          "height": 706
        }
      },
      "source": [
        "dis.summary()"
      ],
      "execution_count": 13,
      "outputs": [
        {
          "output_type": "stream",
          "text": [
            "Model: \"model_1\"\n",
            "__________________________________________________________________________________________________\n",
            "Layer (type)                    Output Shape         Param #     Connected to                     \n",
            "==================================================================================================\n",
            "label (InputLayer)              [(None, 10)]         0                                            \n",
            "__________________________________________________________________________________________________\n",
            "embedding_1 (Embedding)         (None, 10, 100)      1000        label[0][0]                      \n",
            "__________________________________________________________________________________________________\n",
            "dense_2 (Dense)                 (None, 10, 784)      78400       embedding_1[0][0]                \n",
            "__________________________________________________________________________________________________\n",
            "picture (InputLayer)            [(None, 28, 28, 1)]  0                                            \n",
            "__________________________________________________________________________________________________\n",
            "reshape_2 (Reshape)             (None, 28, 28, 1)    0           dense_2[0][0]                    \n",
            "__________________________________________________________________________________________________\n",
            "concatenate_1 (Concatenate)     (None, 28, 28, 2)    0           picture[0][0]                    \n",
            "                                                                 reshape_2[0][0]                  \n",
            "__________________________________________________________________________________________________\n",
            "conv2d (Conv2D)                 (None, 14, 14, 32)   1632        concatenate_1[0][0]              \n",
            "__________________________________________________________________________________________________\n",
            "leaky_re_lu (LeakyReLU)         (None, 14, 14, 32)   0           conv2d[0][0]                     \n",
            "__________________________________________________________________________________________________\n",
            "conv2d_1 (Conv2D)               (None, 7, 7, 64)     51264       leaky_re_lu[0][0]                \n",
            "__________________________________________________________________________________________________\n",
            "batch_normalization_4 (BatchNor (None, 7, 7, 64)     256         conv2d_1[0][0]                   \n",
            "__________________________________________________________________________________________________\n",
            "leaky_re_lu_1 (LeakyReLU)       (None, 7, 7, 64)     0           batch_normalization_4[0][0]      \n",
            "__________________________________________________________________________________________________\n",
            "conv2d_2 (Conv2D)               (None, 7, 7, 128)    204928      leaky_re_lu_1[0][0]              \n",
            "__________________________________________________________________________________________________\n",
            "batch_normalization_5 (BatchNor (None, 7, 7, 128)    512         conv2d_2[0][0]                   \n",
            "__________________________________________________________________________________________________\n",
            "leaky_re_lu_2 (LeakyReLU)       (None, 7, 7, 128)    0           batch_normalization_5[0][0]      \n",
            "__________________________________________________________________________________________________\n",
            "flatten (Flatten)               (None, 6272)         0           leaky_re_lu_2[0][0]              \n",
            "__________________________________________________________________________________________________\n",
            "dense_3 (Dense)                 (None, 1)            6273        flatten[0][0]                    \n",
            "==================================================================================================\n",
            "Total params: 344,265\n",
            "Trainable params: 343,881\n",
            "Non-trainable params: 384\n",
            "__________________________________________________________________________________________________\n"
          ],
          "name": "stdout"
        }
      ]
    },
    {
      "cell_type": "code",
      "metadata": {
        "id": "YD5XWBjoPk9f",
        "colab_type": "code",
        "colab": {}
      },
      "source": [
        ""
      ],
      "execution_count": 0,
      "outputs": []
    },
    {
      "cell_type": "markdown",
      "metadata": {
        "colab_type": "text",
        "id": "AFLiCltXeTeX"
      },
      "source": [
        "# Loss function"
      ]
    },
    {
      "cell_type": "code",
      "metadata": {
        "colab_type": "code",
        "id": "J8UdK0RneTeZ",
        "colab": {}
      },
      "source": [
        "def G_loss(fake_pics):\n",
        "    # labels = 1, try to fool D\n",
        "    loss = tf.nn.sigmoid_cross_entropy_with_logits\n",
        "    return loss(labels=tf.ones_like(fake_pics), logits=fake_pics)\n",
        "\n",
        "def D_loss(real_pics, fake_pics):\n",
        "    loss = tf.nn.sigmoid_cross_entropy_with_logits\n",
        "    real_pic_loss = loss(labels=tf.ones_like(real_pics), logits= real_pics)\n",
        "    fake_pic_loss = loss(labels=tf.zeros_like(fake_pics), logits= fake_pics)\n",
        "    total_loss = real_pic_loss + fake_pic_loss\n",
        "    return total_loss"
      ],
      "execution_count": 0,
      "outputs": []
    },
    {
      "cell_type": "markdown",
      "metadata": {
        "colab_type": "text",
        "id": "DlMk0vB2eTek"
      },
      "source": [
        "# Opimizers"
      ]
    },
    {
      "cell_type": "code",
      "metadata": {
        "colab_type": "code",
        "id": "XbSk7XL3eTem",
        "colab": {}
      },
      "source": [
        "gen_optimizer = tf.keras.optimizers.Adam(2e-4, 0.5)\n",
        "dis_optimizer = tf.keras.optimizers.Adam(2e-4, 0.5)"
      ],
      "execution_count": 0,
      "outputs": []
    },
    {
      "cell_type": "code",
      "metadata": {
        "colab_type": "code",
        "id": "XZpSAaSheTet",
        "colab": {}
      },
      "source": [
        ""
      ],
      "execution_count": 0,
      "outputs": []
    },
    {
      "cell_type": "markdown",
      "metadata": {
        "colab_type": "text",
        "id": "69YxspuoeTey"
      },
      "source": [
        "# Train"
      ]
    },
    {
      "cell_type": "code",
      "metadata": {
        "colab_type": "code",
        "id": "9Dezd3v5eTe4",
        "colab": {}
      },
      "source": [
        "def generate_and_save_image(model, test_input, epoch):\n",
        "    \n",
        "    label = np.array(sorted([i for i in range(10)]*10)).reshape(-1,1)\n",
        "    prediction = model([test_input, label], training = False)\n",
        "    prediction = prediction.numpy()    \n",
        "\n",
        "    fig = plt.figure(figsize=(10,10))\n",
        "    for i in range(prediction.shape[0]):\n",
        "        plt.subplot(10, 10, i+1)\n",
        "        plt.imshow(prediction[i].reshape(28,28), cmap='gray', vmin=0., vmax=1.)\n",
        "        plt.axis(\"off\")\n",
        "    plt.savefig(f'train_figs/train_{epoch}.png')\n",
        "    plt.show()"
      ],
      "execution_count": 0,
      "outputs": []
    },
    {
      "cell_type": "code",
      "metadata": {
        "colab_type": "code",
        "id": "ksn1vJKSeTe0",
        "colab": {}
      },
      "source": [
        "@tf.function\n",
        "def train_step(real_pics, real_pics_label):\n",
        "    \n",
        "    noise = tf.random.normal([BATCH_SIZE, noise_dim])\n",
        "    \n",
        "    with tf.GradientTape() as gen_tape, tf.GradientTape() as dis_tape:\n",
        "        generated_pics = gen([noise, real_pics_label], training=True)\n",
        "        fake_pics = dis([generated_pics, real_pics_label], training=True)\n",
        "        real_pics = dis([real_pics, real_pics_label], training=True)\n",
        "\n",
        "        generator_loss = G_loss(fake_pics)\n",
        "        discriminator_loss = D_loss(real_pics, fake_pics)\n",
        "\n",
        "    # Compute each variables' gradients\n",
        "    gen_gradients = gen_tape.gradient(generator_loss, gen.trainable_variables)\n",
        "    dis_gradients = dis_tape.gradient(discriminator_loss, dis.trainable_variables)\n",
        "    # Update each variable\n",
        "    gen_optimizer.apply_gradients(zip(gen_gradients, gen.trainable_variables))\n",
        "    dis_optimizer.apply_gradients(zip(dis_gradients, dis.trainable_variables))"
      ],
      "execution_count": 0,
      "outputs": []
    },
    {
      "cell_type": "code",
      "metadata": {
        "colab_type": "code",
        "id": "n7geSKaXeTe9",
        "colab": {}
      },
      "source": [
        "def train(train_data_x, train_data_y, epochs):\n",
        "    \n",
        "    for epoch in range(epochs):\n",
        "        print(\"Epoch:\", epoch+1)\n",
        "        seed = tf.random.normal([numbers_to_generate, noise_dim])\n",
        "        for img_batch, label_batch in zip(train_data_x, train_data_y):\n",
        "            train_step(img_batch, label_batch)\n",
        "\n",
        "        display.clear_output(wait=True)\n",
        "        generate_and_save_image(gen, seed, epoch)\n",
        "        \n",
        "    display.clear_output(wait=True)   \n",
        "    generate_and_save_image(gen, seed, epoch)"
      ],
      "execution_count": 0,
      "outputs": []
    },
    {
      "cell_type": "code",
      "metadata": {
        "colab_type": "code",
        "id": "fZguoPTweTfT",
        "outputId": "69c73d25-39c6-4a64-f54b-02d0d95543ad",
        "colab": {
          "base_uri": "https://localhost:8080/",
          "height": 574
        }
      },
      "source": [
        "train(train_data_x, train_data_y, 10)"
      ],
      "execution_count": 19,
      "outputs": [
        {
          "output_type": "display_data",
          "data": {
            "image/png": "[encoded data removed]",
            "text/plain": [
              "<Figure size 720x720 with 100 Axes>"
            ]
          },
          "metadata": {
            "tags": []
          }
        }
      ]
    },
    {
      "cell_type": "code",
      "metadata": {
        "colab_type": "code",
        "id": "B68PzsQNMD0i",
        "outputId": "c0bb1b78-206f-49d4-93ee-e4e8995b5e66",
        "colab": {
          "base_uri": "https://localhost:8080/",
          "height": 34
        }
      },
      "source": [
        "import shutil\n",
        "shutil.make_archive('train_figs', 'zip', 'train_figs')"
      ],
      "execution_count": 20,
      "outputs": [
        {
          "output_type": "execute_result",
          "data": {
            "text/plain": [
              "'/content/train_figs.zip'"
            ]
          },
          "metadata": {
            "tags": []
          },
          "execution_count": 20
        }
      ]
    }
  ]
}