{
 "cells": [
  {
   "cell_type": "code",
   "execution_count": 1,
   "metadata": {},
   "outputs": [],
   "source": [
    "import os\n",
    "import tkinter as tk\n",
    "import time\n",
    "import csv\n",
    "import glob\n",
    "import shutil\n",
    "import pandas as pd\n",
    "from selenium import webdriver\n",
    "from selenium.common.exceptions import NoSuchElementException\n",
    "from selenium.webdriver.common.keys import Keys"
   ]
  },
  {
   "cell_type": "markdown",
   "metadata": {},
   "source": [
    "# 開啟網頁"
   ]
  },
  {
   "cell_type": "code",
   "execution_count": 2,
   "metadata": {},
   "outputs": [],
   "source": [
    "path='https://www.ptt.cc/bbs/Beauty/index.html'\n",
    "driver = webdriver.Chrome(os.path.join(os.getcwd(),'chromedriver'))\n",
    "# chromedriver 的檔案路徑\n",
    "\n",
    "driver.get(path)\n",
    "driver.find_element_by_class_name('btn-big').click()"
   ]
  },
  {
   "cell_type": "code",
   "execution_count": null,
   "metadata": {},
   "outputs": [],
   "source": []
  },
  {
   "cell_type": "code",
   "execution_count": 4,
   "metadata": {},
   "outputs": [],
   "source": [
    "links = driver.find_elements_by_class_name('title')\n",
    "# <div class=\"title\">  --> 抓title出來\n",
    "\n",
    "#  driver.find_element   v.s   driver.find_elements\n",
    "\n"
   ]
  },
  {
   "cell_type": "code",
   "execution_count": 5,
   "metadata": {},
   "outputs": [
    {
     "data": {
      "text/plain": [
       "list"
      ]
     },
     "execution_count": 5,
     "metadata": {},
     "output_type": "execute_result"
    }
   ],
   "source": [
    "type(links)"
   ]
  },
  {
   "cell_type": "code",
   "execution_count": 5,
   "metadata": {
    "scrolled": true
   },
   "outputs": [
    {
     "name": "stdout",
     "output_type": "stream",
     "text": [
      "[正妹] 宋芸樺v.s夏于喬\n",
      "[正妹] 華視訓練中心主播\n",
      "[神人] 廣告女主角\n",
      "[正妹] 笑容\n",
      "[正妹] 最強女高生\n",
      "(本文已被刪除) [von35]\n",
      "[正妹] 新竹妹子\n",
      "憂鬱氣質正妹\n",
      "[公告] 開放噓文暫停X1條款\n",
      "[公告] 不願上表特 ＆ 優文推薦 ＆ 檢舉建議專區\n",
      "Fw: [公告] 請使用者多加注意我國保護兒少的法令\n",
      "[公告] 表特板板規(2019.7.26)\n",
      "[公告] 201907 板主徵選延長\n"
     ]
    }
   ],
   "source": [
    "for i in range(len(links)):\n",
    "    print(links[i].text)"
   ]
  },
  {
   "cell_type": "code",
   "execution_count": null,
   "metadata": {},
   "outputs": [],
   "source": []
  },
  {
   "cell_type": "code",
   "execution_count": 6,
   "metadata": {
    "scrolled": false
   },
   "outputs": [
    {
     "name": "stdout",
     "output_type": "stream",
     "text": [
      "https://www.ptt.cc/bbs/Beauty/M.1567434890.A.6A9.html\n",
      "https://www.ptt.cc/bbs/Beauty/M.1567435293.A.2DE.html\n",
      "https://www.ptt.cc/bbs/Beauty/M.1567435426.A.2C4.html\n",
      "https://www.ptt.cc/bbs/Beauty/M.1567439576.A.7D7.html\n",
      "https://www.ptt.cc/bbs/Beauty/M.1567440875.A.FC5.html\n",
      "(本文已被刪除) [pccudog]\n",
      "https://www.ptt.cc/bbs/Beauty/M.1567473815.A.B2B.html\n",
      "https://www.ptt.cc/bbs/Beauty/M.1567475138.A.A7E.html\n",
      "https://www.ptt.cc/bbs/Beauty/M.1567483766.A.12A.html\n",
      "https://www.ptt.cc/bbs/Beauty/M.1567484508.A.B37.html\n",
      "https://www.ptt.cc/bbs/Beauty/M.1567484704.A.58D.html\n",
      "https://www.ptt.cc/bbs/Beauty/M.1567487430.A.511.html\n",
      "https://www.ptt.cc/bbs/Beauty/M.1567488235.A.244.html\n",
      "https://www.ptt.cc/bbs/Beauty/M.1567502233.A.570.html\n",
      "https://www.ptt.cc/bbs/Beauty/M.1557742996.A.657.html\n",
      "https://www.ptt.cc/bbs/Beauty/M.1558415952.A.8D7.html\n",
      "https://www.ptt.cc/bbs/Beauty/M.1563960846.A.05A.html\n",
      "https://www.ptt.cc/bbs/Beauty/M.1564114881.A.155.html\n",
      "https://www.ptt.cc/bbs/Beauty/M.1564117458.A.1AF.html\n"
     ]
    }
   ],
   "source": [
    "for i in range(len(links)):\n",
    "    try:\n",
    "        print(links[i].find_element_by_css_selector('a').get_attribute('href'))\n",
    "    except NoSuchElementException:\n",
    "        print(links[i].text)"
   ]
  },
  {
   "cell_type": "code",
   "execution_count": 7,
   "metadata": {},
   "outputs": [],
   "source": [
    "def get_link(input_data):\n",
    "    links_list = []\n",
    "    links = input_data.find_elements_by_class_name('title')\n",
    "    for i in range(len(links)):\n",
    "        try:\n",
    "            links_list.append((links[i].text,links[i].find_element_by_css_selector('a').get_attribute('href')))\n",
    "        except NoSuchElementException:\n",
    "            links_list.append((links[i].text,'No such link!'))\n",
    "    return links_list"
   ]
  },
  {
   "cell_type": "markdown",
   "metadata": {},
   "source": [
    "#### append(x,x)   will return error cuz append only takes one arguments.\n",
    "#### append((x,x))   composes several items as a tuple."
   ]
  },
  {
   "cell_type": "code",
   "execution_count": 8,
   "metadata": {
    "scrolled": true
   },
   "outputs": [
    {
     "data": {
      "text/plain": [
       "[('[正妹] 篠崎泫 GIF', 'https://www.ptt.cc/bbs/Beauty/M.1567434890.A.6A9.html'),\n",
       " ('[正妹] 白石麻衣~寫真集破37萬本啦!!!',\n",
       "  'https://www.ptt.cc/bbs/Beauty/M.1567435293.A.2DE.html'),\n",
       " ('[正妹] 胳肢窩', 'https://www.ptt.cc/bbs/Beauty/M.1567435426.A.2C4.html'),\n",
       " ('[正妹] 王真琳', 'https://www.ptt.cc/bbs/Beauty/M.1567439576.A.7D7.html'),\n",
       " ('[正妹] 胳肢窩', 'https://www.ptt.cc/bbs/Beauty/M.1567440875.A.FC5.html'),\n",
       " ('(本文已被刪除) [pccudog]', 'No such link!'),\n",
       " ('[廣告] 日本氣質妹「羽柴なつみ」 臉蛋神似秀智',\n",
       "  'https://www.ptt.cc/bbs/Beauty/M.1567473815.A.B2B.html'),\n",
       " ('[正妹] 李沇熹（李妍熙）', 'https://www.ptt.cc/bbs/Beauty/M.1567475138.A.A7E.html'),\n",
       " ('[廣告] 內衣麻豆 天使梨櫻', 'https://www.ptt.cc/bbs/Beauty/M.1567483766.A.12A.html'),\n",
       " ('[神人] 模特兒', 'https://www.ptt.cc/bbs/Beauty/M.1567484508.A.B37.html'),\n",
       " ('[神人] FB上看到的正妹 ???',\n",
       "  'https://www.ptt.cc/bbs/Beauty/M.1567484704.A.58D.html'),\n",
       " ('[正妹] 德魯納酒店-殺青的IU', 'https://www.ptt.cc/bbs/Beauty/M.1567487430.A.511.html'),\n",
       " ('[正妹] 各種小姐姐', 'https://www.ptt.cc/bbs/Beauty/M.1567488235.A.244.html'),\n",
       " ('[神人] 廣告看到的妹子', 'https://www.ptt.cc/bbs/Beauty/M.1567502233.A.570.html'),\n",
       " ('[公告] 開放噓文暫停X1條款', 'https://www.ptt.cc/bbs/Beauty/M.1557742996.A.657.html'),\n",
       " ('[公告] 不願上表特 ＆ 優文推薦 ＆ 檢舉建議專區',\n",
       "  'https://www.ptt.cc/bbs/Beauty/M.1558415952.A.8D7.html'),\n",
       " ('Fw: [公告] 請使用者多加注意我國保護兒少的法令',\n",
       "  'https://www.ptt.cc/bbs/Beauty/M.1563960846.A.05A.html'),\n",
       " ('[公告] 表特板板規(2019.7.26)',\n",
       "  'https://www.ptt.cc/bbs/Beauty/M.1564114881.A.155.html'),\n",
       " ('[公告] 201907 板主徵選延長',\n",
       "  'https://www.ptt.cc/bbs/Beauty/M.1564117458.A.1AF.html')]"
      ]
     },
     "execution_count": 8,
     "metadata": {},
     "output_type": "execute_result"
    }
   ],
   "source": [
    "get_link(driver)"
   ]
  },
  {
   "cell_type": "code",
   "execution_count": 9,
   "metadata": {},
   "outputs": [
    {
     "name": "stdout",
     "output_type": "stream",
     "text": [
      "[正妹] 篠崎泫 GIF: https://www.ptt.cc/bbs/Beauty/M.1567434890.A.6A9.html\n",
      "[正妹] 白石麻衣~寫真集破37萬本啦!!!: https://www.ptt.cc/bbs/Beauty/M.1567435293.A.2DE.html\n",
      "[正妹] 胳肢窩: https://www.ptt.cc/bbs/Beauty/M.1567435426.A.2C4.html\n",
      "[正妹] 王真琳: https://www.ptt.cc/bbs/Beauty/M.1567439576.A.7D7.html\n",
      "[正妹] 胳肢窩: https://www.ptt.cc/bbs/Beauty/M.1567440875.A.FC5.html\n",
      "No such link\n",
      "[廣告] 日本氣質妹「羽柴なつみ」 臉蛋神似秀智: https://www.ptt.cc/bbs/Beauty/M.1567473815.A.B2B.html\n",
      "[正妹] 李沇熹（李妍熙）: https://www.ptt.cc/bbs/Beauty/M.1567475138.A.A7E.html\n",
      "[廣告] 內衣麻豆 天使梨櫻: https://www.ptt.cc/bbs/Beauty/M.1567483766.A.12A.html\n",
      "[神人] 模特兒: https://www.ptt.cc/bbs/Beauty/M.1567484508.A.B37.html\n",
      "[神人] FB上看到的正妹 ???: https://www.ptt.cc/bbs/Beauty/M.1567484704.A.58D.html\n",
      "[正妹] 德魯納酒店-殺青的IU: https://www.ptt.cc/bbs/Beauty/M.1567487430.A.511.html\n",
      "[正妹] 各種小姐姐: https://www.ptt.cc/bbs/Beauty/M.1567488235.A.244.html\n",
      "[神人] 廣告看到的妹子: https://www.ptt.cc/bbs/Beauty/M.1567502233.A.570.html\n",
      "[公告] 開放噓文暫停X1條款: https://www.ptt.cc/bbs/Beauty/M.1557742996.A.657.html\n",
      "[公告] 不願上表特 ＆ 優文推薦 ＆ 檢舉建議專區: https://www.ptt.cc/bbs/Beauty/M.1558415952.A.8D7.html\n",
      "Fw: [公告] 請使用者多加注意我國保護兒少的法令: https://www.ptt.cc/bbs/Beauty/M.1563960846.A.05A.html\n",
      "[公告] 表特板板規(2019.7.26): https://www.ptt.cc/bbs/Beauty/M.1564114881.A.155.html\n",
      "[公告] 201907 板主徵選延長: https://www.ptt.cc/bbs/Beauty/M.1564117458.A.1AF.html\n"
     ]
    }
   ],
   "source": [
    "for i in range(len(links)):\n",
    "    try:\n",
    "        print(links[i].text+\": \"+links[i].find_element_by_css_selector('a').get_attribute('href'))\n",
    "    except NoSuchElementException:\n",
    "        print('No such link')"
   ]
  },
  {
   "cell_type": "code",
   "execution_count": null,
   "metadata": {},
   "outputs": [],
   "source": []
  },
  {
   "cell_type": "markdown",
   "metadata": {},
   "source": [
    "# 搜尋條件\n",
    "The  < q >  tag defines a short quotation.\n",
    "\n",
    "Browsers normally insert quotation marks around the quotation."
   ]
  },
  {
   "cell_type": "markdown",
   "metadata": {},
   "source": [
    "找到\"搜尋文章\"的欄位"
   ]
  },
  {
   "cell_type": "code",
   "execution_count": 3,
   "metadata": {},
   "outputs": [],
   "source": [
    "key_in = driver.find_element_by_name('q')"
   ]
  },
  {
   "cell_type": "markdown",
   "metadata": {},
   "source": [
    "在\"搜尋文章\"中輸入關鍵字"
   ]
  },
  {
   "cell_type": "code",
   "execution_count": 4,
   "metadata": {},
   "outputs": [],
   "source": [
    "key_in.send_keys('齋藤飛鳥')"
   ]
  },
  {
   "cell_type": "markdown",
   "metadata": {},
   "source": [
    "送出，搜尋"
   ]
  },
  {
   "cell_type": "code",
   "execution_count": 5,
   "metadata": {},
   "outputs": [],
   "source": [
    "key_in.submit()"
   ]
  },
  {
   "cell_type": "code",
   "execution_count": 8,
   "metadata": {},
   "outputs": [],
   "source": [
    "link_1 = get_link(driver)"
   ]
  },
  {
   "cell_type": "code",
   "execution_count": 13,
   "metadata": {},
   "outputs": [
    {
     "data": {
      "text/plain": [
       "list"
      ]
     },
     "execution_count": 13,
     "metadata": {},
     "output_type": "execute_result"
    }
   ],
   "source": [
    "type(link_1)"
   ]
  },
  {
   "cell_type": "code",
   "execution_count": 14,
   "metadata": {},
   "outputs": [
    {
     "data": {
      "text/plain": [
       "11"
      ]
     },
     "execution_count": 14,
     "metadata": {},
     "output_type": "execute_result"
    }
   ],
   "source": [
    "len(link_1)"
   ]
  },
  {
   "cell_type": "code",
   "execution_count": 15,
   "metadata": {},
   "outputs": [
    {
     "data": {
      "text/plain": [
       "'[正妹] 溫妮v.s泱泱'"
      ]
     },
     "execution_count": 15,
     "metadata": {},
     "output_type": "execute_result"
    }
   ],
   "source": [
    "link_1[1][0]"
   ]
  },
  {
   "cell_type": "code",
   "execution_count": 16,
   "metadata": {},
   "outputs": [
    {
     "data": {
      "text/plain": [
       "'https://www.ptt.cc/bbs/Beauty/M.1562566055.A.C3A.html'"
      ]
     },
     "execution_count": 16,
     "metadata": {},
     "output_type": "execute_result"
    }
   ],
   "source": [
    "link_1[1][1]"
   ]
  },
  {
   "cell_type": "code",
   "execution_count": 17,
   "metadata": {},
   "outputs": [
    {
     "data": {
      "text/plain": [
       "2"
      ]
     },
     "execution_count": 17,
     "metadata": {},
     "output_type": "execute_result"
    }
   ],
   "source": [
    "len(link_1[1])"
   ]
  },
  {
   "cell_type": "code",
   "execution_count": 9,
   "metadata": {},
   "outputs": [
    {
     "data": {
      "text/plain": [
       "[('[正妹] 齋藤飛鳥 in non-on',\n",
       "  'https://www.ptt.cc/bbs/Beauty/M.1567608255.A.F53.html'),\n",
       " ('[正妹] 乃木坂46 齋藤飛鳥 阿羞羞',\n",
       "  'https://www.ptt.cc/bbs/Beauty/M.1565366810.A.5DA.html'),\n",
       " ('[正妹] 齋藤飛鳥', 'https://www.ptt.cc/bbs/Beauty/M.1556275779.A.DC5.html'),\n",
       " ('[廣告] 齋藤飛鳥 ENTAME 2019 No.02 (月刊エン',\n",
       "  'https://www.ptt.cc/bbs/Beauty/M.1552029723.A.3D0.html'),\n",
       " ('Re: [正妹] 齋藤飛鳥 #新成人 #成人の日',\n",
       "  'https://www.ptt.cc/bbs/Beauty/M.1547523296.A.E9C.html'),\n",
       " ('[正妹] 齋藤飛鳥 #新成人 #成人の日',\n",
       "  'https://www.ptt.cc/bbs/Beauty/M.1547482790.A.854.html'),\n",
       " ('[正妹] 齋藤飛鳥的舌頭', 'https://www.ptt.cc/bbs/Beauty/M.1540462494.A.F6E.html'),\n",
       " ('[正妹] 乃木坂46 齋藤飛鳥 lamigo主場開球',\n",
       "  'https://www.ptt.cc/bbs/Beauty/M.1534350487.A.435.html'),\n",
       " ('[正妹] 老婆齋藤飛鳥生日快樂', 'https://www.ptt.cc/bbs/Beauty/M.1533826828.A.146.html'),\n",
       " ('[正妹] 齋藤飛鳥 白石麻衣 生駒里奈 西野七瀬',\n",
       "  'https://www.ptt.cc/bbs/Beauty/M.1528213485.A.89A.html'),\n",
       " ('[正妹] 齋藤飛鳥', 'https://www.ptt.cc/bbs/Beauty/M.1526139961.A.E43.html'),\n",
       " ('[正妹] 齋藤飛鳥', 'https://www.ptt.cc/bbs/Beauty/M.1524164782.A.9D1.html'),\n",
       " ('[正妹] 齋藤飛鳥 日版那些年劇照公開',\n",
       "  'https://www.ptt.cc/bbs/Beauty/M.1516158605.A.E04.html'),\n",
       " ('[正妹] 齋藤飛鳥', 'https://www.ptt.cc/bbs/Beauty/M.1515600315.A.6AB.html'),\n",
       " ('[正妹] 白石麻衣x齋藤飛鳥', 'https://www.ptt.cc/bbs/Beauty/M.1513356995.A.C3B.html'),\n",
       " ('[正妹] 齋藤飛鳥 生日快樂~', 'https://www.ptt.cc/bbs/Beauty/M.1502297945.A.1D1.html'),\n",
       " ('[正妹] 西野七瀬 x 齋藤飛鳥', 'https://www.ptt.cc/bbs/Beauty/M.1493048061.A.BE2.html'),\n",
       " ('[正妹] 齋藤飛鳥', 'https://www.ptt.cc/bbs/Beauty/M.1485640514.A.454.html'),\n",
       " ('[正妹] 阿羞羞 齋藤飛鳥', 'https://www.ptt.cc/bbs/Beauty/M.1470386195.A.912.html'),\n",
       " ('[正妹] 無奶特來襲 齋藤飛鳥 水野由結',\n",
       "  'https://www.ptt.cc/bbs/Beauty/M.1456852667.A.8F5.html')]"
      ]
     },
     "execution_count": 9,
     "metadata": {},
     "output_type": "execute_result"
    }
   ],
   "source": [
    "link_1"
   ]
  },
  {
   "cell_type": "code",
   "execution_count": 10,
   "metadata": {},
   "outputs": [],
   "source": [
    "pic_link = link_1[5:]"
   ]
  },
  {
   "cell_type": "code",
   "execution_count": 11,
   "metadata": {},
   "outputs": [
    {
     "data": {
      "text/plain": [
       "[('[正妹] 齋藤飛鳥 #新成人 #成人の日',\n",
       "  'https://www.ptt.cc/bbs/Beauty/M.1547482790.A.854.html'),\n",
       " ('[正妹] 齋藤飛鳥的舌頭', 'https://www.ptt.cc/bbs/Beauty/M.1540462494.A.F6E.html'),\n",
       " ('[正妹] 乃木坂46 齋藤飛鳥 lamigo主場開球',\n",
       "  'https://www.ptt.cc/bbs/Beauty/M.1534350487.A.435.html'),\n",
       " ('[正妹] 老婆齋藤飛鳥生日快樂', 'https://www.ptt.cc/bbs/Beauty/M.1533826828.A.146.html'),\n",
       " ('[正妹] 齋藤飛鳥 白石麻衣 生駒里奈 西野七瀬',\n",
       "  'https://www.ptt.cc/bbs/Beauty/M.1528213485.A.89A.html'),\n",
       " ('[正妹] 齋藤飛鳥', 'https://www.ptt.cc/bbs/Beauty/M.1526139961.A.E43.html'),\n",
       " ('[正妹] 齋藤飛鳥', 'https://www.ptt.cc/bbs/Beauty/M.1524164782.A.9D1.html'),\n",
       " ('[正妹] 齋藤飛鳥 日版那些年劇照公開',\n",
       "  'https://www.ptt.cc/bbs/Beauty/M.1516158605.A.E04.html'),\n",
       " ('[正妹] 齋藤飛鳥', 'https://www.ptt.cc/bbs/Beauty/M.1515600315.A.6AB.html'),\n",
       " ('[正妹] 白石麻衣x齋藤飛鳥', 'https://www.ptt.cc/bbs/Beauty/M.1513356995.A.C3B.html'),\n",
       " ('[正妹] 齋藤飛鳥 生日快樂~', 'https://www.ptt.cc/bbs/Beauty/M.1502297945.A.1D1.html'),\n",
       " ('[正妹] 西野七瀬 x 齋藤飛鳥', 'https://www.ptt.cc/bbs/Beauty/M.1493048061.A.BE2.html'),\n",
       " ('[正妹] 齋藤飛鳥', 'https://www.ptt.cc/bbs/Beauty/M.1485640514.A.454.html'),\n",
       " ('[正妹] 阿羞羞 齋藤飛鳥', 'https://www.ptt.cc/bbs/Beauty/M.1470386195.A.912.html'),\n",
       " ('[正妹] 無奶特來襲 齋藤飛鳥 水野由結',\n",
       "  'https://www.ptt.cc/bbs/Beauty/M.1456852667.A.8F5.html')]"
      ]
     },
     "execution_count": 11,
     "metadata": {},
     "output_type": "execute_result"
    }
   ],
   "source": [
    "pic_link"
   ]
  },
  {
   "cell_type": "code",
   "execution_count": null,
   "metadata": {},
   "outputs": [],
   "source": []
  },
  {
   "cell_type": "markdown",
   "metadata": {},
   "source": [
    "# 開啟分頁"
   ]
  },
  {
   "cell_type": "code",
   "execution_count": 32,
   "metadata": {},
   "outputs": [
    {
     "name": "stdout",
     "output_type": "stream",
     "text": [
      "https://www.ptt.cc/bbs/Beauty/M.1544077945.A.D48.html\n"
     ]
    }
   ],
   "source": [
    "url = link_1[2][1]\n",
    "print(url)"
   ]
  },
  {
   "cell_type": "code",
   "execution_count": 21,
   "metadata": {},
   "outputs": [],
   "source": [
    "webdriver.Chrome.get(driver,url)"
   ]
  },
  {
   "cell_type": "code",
   "execution_count": null,
   "metadata": {},
   "outputs": [],
   "source": []
  },
  {
   "cell_type": "code",
   "execution_count": 15,
   "metadata": {},
   "outputs": [],
   "source": [
    "def get_pic():\n",
    "    hrefs = driver.find_elements_by_css_selector('a')\n",
    "\n",
    "    images = []  # set to null at the start of every for loop\n",
    "    for i in range(len(hrefs)):\n",
    "        if hrefs[i].text[-4:] == '.jpg':\n",
    "            images.append(hrefs[i].text.replace(\"://i.\", \"://\"))\n",
    "\n",
    "    \n",
    "    name = title\n",
    "    save_path = 'C:\\\\Users\\\\Big data\\\\Desktop\\\\表特抓圖\\\\齋藤飛鳥'\n",
    "    mix_path = os.path.join(save_path, name)\n",
    "    #mix_path = os.path.join(os.getcwd(), name)\n",
    "    if not os.path.isdir(mix_path):\n",
    "        os.mkdir(mix_path)\n",
    "\n",
    "    pp = webdriver.Chrome(os.path.join(os.getcwd(),'chromedriver'))\n",
    "    for j in range(len(images)):\n",
    "        images_link = images[j]\n",
    "        pp.get(images_link)\n",
    "        photo = pp.find_element_by_css_selector('img')\n",
    "        try:\n",
    "            photo.screenshot(os.path.join(mix_path, str(j) + '.png'))\n",
    "        except:\n",
    "            pass\n",
    "        \n",
    "        # 存其他格式的圖片\n",
    "        \n",
    "        \n",
    "        \n",
    "    pp.quit()"
   ]
  },
  {
   "cell_type": "code",
   "execution_count": 18,
   "metadata": {},
   "outputs": [],
   "source": [
    "def download_pic():\n",
    "    global title\n",
    "    x = len(pic_link)    \n",
    "    for i in range(x):\n",
    "        url = pic_link[i][1]\n",
    "        webdriver.Chrome.get(driver, url)\n",
    "        base_data = driver.find_elements_by_class_name('article-meta-value')\n",
    "        if len(base_data) < 1:\n",
    "            continue\n",
    "        title = base_data[2].text\n",
    "        post_time = base_data[3].text\n",
    "        if \"/\" in title:\n",
    "            title = title.replace('/', '-')\n",
    "        if \"Re:\" in title:\n",
    "            title = title.replace('Re:', '')\n",
    "        get_pic()\n",
    "        \n",
    "    webdriver.Chrome.get(driver, path)"
   ]
  },
  {
   "cell_type": "code",
   "execution_count": 19,
   "metadata": {},
   "outputs": [],
   "source": [
    "download_pic()"
   ]
  },
  {
   "cell_type": "code",
   "execution_count": 20,
   "metadata": {},
   "outputs": [
    {
     "data": {
      "text/plain": [
       "[('[正妹] 齋藤飛鳥 #新成人 #成人の日',\n",
       "  'https://www.ptt.cc/bbs/Beauty/M.1547482790.A.854.html'),\n",
       " ('[正妹] 齋藤飛鳥的舌頭', 'https://www.ptt.cc/bbs/Beauty/M.1540462494.A.F6E.html'),\n",
       " ('[正妹] 乃木坂46 齋藤飛鳥 lamigo主場開球',\n",
       "  'https://www.ptt.cc/bbs/Beauty/M.1534350487.A.435.html'),\n",
       " ('[正妹] 老婆齋藤飛鳥生日快樂', 'https://www.ptt.cc/bbs/Beauty/M.1533826828.A.146.html'),\n",
       " ('[正妹] 齋藤飛鳥 白石麻衣 生駒里奈 西野七瀬',\n",
       "  'https://www.ptt.cc/bbs/Beauty/M.1528213485.A.89A.html'),\n",
       " ('[正妹] 齋藤飛鳥', 'https://www.ptt.cc/bbs/Beauty/M.1526139961.A.E43.html'),\n",
       " ('[正妹] 齋藤飛鳥', 'https://www.ptt.cc/bbs/Beauty/M.1524164782.A.9D1.html'),\n",
       " ('[正妹] 齋藤飛鳥 日版那些年劇照公開',\n",
       "  'https://www.ptt.cc/bbs/Beauty/M.1516158605.A.E04.html'),\n",
       " ('[正妹] 齋藤飛鳥', 'https://www.ptt.cc/bbs/Beauty/M.1515600315.A.6AB.html'),\n",
       " ('[正妹] 白石麻衣x齋藤飛鳥', 'https://www.ptt.cc/bbs/Beauty/M.1513356995.A.C3B.html'),\n",
       " ('[正妹] 齋藤飛鳥 生日快樂~', 'https://www.ptt.cc/bbs/Beauty/M.1502297945.A.1D1.html'),\n",
       " ('[正妹] 西野七瀬 x 齋藤飛鳥', 'https://www.ptt.cc/bbs/Beauty/M.1493048061.A.BE2.html'),\n",
       " ('[正妹] 齋藤飛鳥', 'https://www.ptt.cc/bbs/Beauty/M.1485640514.A.454.html'),\n",
       " ('[正妹] 阿羞羞 齋藤飛鳥', 'https://www.ptt.cc/bbs/Beauty/M.1470386195.A.912.html'),\n",
       " ('[正妹] 無奶特來襲 齋藤飛鳥 水野由結',\n",
       "  'https://www.ptt.cc/bbs/Beauty/M.1456852667.A.8F5.html')]"
      ]
     },
     "execution_count": 20,
     "metadata": {},
     "output_type": "execute_result"
    }
   ],
   "source": [
    "pic_link"
   ]
  },
  {
   "cell_type": "code",
   "execution_count": null,
   "metadata": {},
   "outputs": [],
   "source": []
  },
  {
   "cell_type": "markdown",
   "metadata": {},
   "source": [
    "### 切換分頁可以使用以下指令\n",
    "driver.switch_to_window(driver.window_handles[1]) \n",
    "#### 其中參數放分頁的index"
   ]
  },
  {
   "cell_type": "code",
   "execution_count": null,
   "metadata": {},
   "outputs": [],
   "source": []
  },
  {
   "cell_type": "markdown",
   "metadata": {},
   "source": [
    "# 分類資料"
   ]
  },
  {
   "cell_type": "code",
   "execution_count": 22,
   "metadata": {},
   "outputs": [],
   "source": [
    "base_data = driver.find_elements_by_class_name('article-meta-value')"
   ]
  },
  {
   "cell_type": "code",
   "execution_count": 23,
   "metadata": {},
   "outputs": [
    {
     "name": "stdout",
     "output_type": "stream",
     "text": [
      "adgbw8728 (ass)\n",
      "\n",
      "Beauty\n",
      "\n",
      "[正妹] 惡靈退散\n",
      "\n",
      "Mon Sep  2 18:00:54 2019\n",
      "\n"
     ]
    }
   ],
   "source": [
    "for i in range(len(base_data)):\n",
    "    print(base_data[i].text, end = \"\\n\\n\")"
   ]
  },
  {
   "cell_type": "code",
   "execution_count": 24,
   "metadata": {},
   "outputs": [],
   "source": [
    "type_list = ['作者','看板','標題','時間']"
   ]
  },
  {
   "cell_type": "code",
   "execution_count": 25,
   "metadata": {
    "scrolled": true
   },
   "outputs": [
    {
     "name": "stdout",
     "output_type": "stream",
     "text": [
      "作者 : adgbw8728 (ass)\n",
      "看板 : Beauty\n",
      "標題 : [正妹] 惡靈退散\n",
      "時間 : Mon Sep  2 18:00:54 2019\n"
     ]
    }
   ],
   "source": [
    "for i in range(len(base_data)):\n",
    "        print(type_list[i],':',base_data[i].text)"
   ]
  },
  {
   "cell_type": "code",
   "execution_count": null,
   "metadata": {},
   "outputs": [],
   "source": []
  },
  {
   "cell_type": "markdown",
   "metadata": {},
   "source": [
    "## 抓圖片"
   ]
  },
  {
   "cell_type": "code",
   "execution_count": 22,
   "metadata": {},
   "outputs": [],
   "source": [
    "hrefs = driver.find_elements_by_css_selector('a')"
   ]
  },
  {
   "cell_type": "code",
   "execution_count": 23,
   "metadata": {
    "scrolled": true
   },
   "outputs": [
    {
     "name": "stdout",
     "output_type": "stream",
     "text": [
      "批踢踢實業坊\n",
      "看板 Beauty\n",
      "關於我們\n",
      "聯絡資訊\n",
      "返回看板\n",
      "https://imgur.com/e84c2QN.jpg\n",
      "https://imgur.com/PfefPgP.jpg\n",
      "https://imgur.com/8xRjwcZ.jpg\n",
      "https://imgur.com/GnrPBaf.jpg\n",
      "https://imgur.com/pa0xJI4.jpg\n",
      "https://imgur.com/12zprMl.jpg\n",
      "https://imgur.com/QmcokHv.jpg\n",
      "https://imgur.com/xGrCh5F.jpg\n",
      "https://imgur.com/7Fl1uOJ.jpg\n",
      "https://goo.gl/bTEQFm\n",
      "https://www.ptt.cc/bbs/Beauty/M.1544077945.A.D48.html\n",
      "http://i.imgur.com/BBGsbpH.jpg\n",
      "https://imgur.com/QlZsXuJ.jpg\n",
      "http://i.imgur.com/GqD6OSR.jpg\n",
      "http://i.imgur.com/yjx28wS.jpg\n",
      "http://i.imgur.com/FxsCqSk.jpg\n",
      "http://i.imgur.com/rYZUznR.jpg\n"
     ]
    }
   ],
   "source": [
    "for i in range(len(hrefs)):\n",
    "    print(hrefs[i].text)\n",
    "    \n",
    "# get_attribute('href') returns website."
   ]
  },
  {
   "cell_type": "code",
   "execution_count": 24,
   "metadata": {},
   "outputs": [],
   "source": [
    "images = []\n",
    "for i in range(len(hrefs)):\n",
    "    if hrefs[i].text[-4:]=='.jpg':\n",
    "        images.append(hrefs[i].text.replace(\"://i.\",\"://\"))"
   ]
  },
  {
   "cell_type": "code",
   "execution_count": 25,
   "metadata": {
    "scrolled": true
   },
   "outputs": [
    {
     "data": {
      "text/plain": [
       "['https://imgur.com/e84c2QN.jpg',\n",
       " 'https://imgur.com/PfefPgP.jpg',\n",
       " 'https://imgur.com/8xRjwcZ.jpg',\n",
       " 'https://imgur.com/GnrPBaf.jpg',\n",
       " 'https://imgur.com/pa0xJI4.jpg',\n",
       " 'https://imgur.com/12zprMl.jpg',\n",
       " 'https://imgur.com/QmcokHv.jpg',\n",
       " 'https://imgur.com/xGrCh5F.jpg',\n",
       " 'https://imgur.com/7Fl1uOJ.jpg',\n",
       " 'http://imgur.com/BBGsbpH.jpg',\n",
       " 'https://imgur.com/QlZsXuJ.jpg',\n",
       " 'http://imgur.com/GqD6OSR.jpg',\n",
       " 'http://imgur.com/yjx28wS.jpg',\n",
       " 'http://imgur.com/FxsCqSk.jpg',\n",
       " 'http://imgur.com/rYZUznR.jpg']"
      ]
     },
     "execution_count": 25,
     "metadata": {},
     "output_type": "execute_result"
    }
   ],
   "source": [
    "images"
   ]
  },
  {
   "cell_type": "code",
   "execution_count": null,
   "metadata": {},
   "outputs": [],
   "source": []
  },
  {
   "cell_type": "markdown",
   "metadata": {},
   "source": [
    "## 儲存"
   ]
  },
  {
   "cell_type": "code",
   "execution_count": 30,
   "metadata": {},
   "outputs": [],
   "source": [
    "root_path = os.getcwd()\n",
    "# Return a unicode string representing the current working directory.\n",
    "save_path = \"Beauty\"\n",
    "mix_path = os.path.join(root_path,save_path)\n",
    "\n",
    "if not os.path.isdir(mix_path):\n",
    "    os.mkdir(mix_path)\n",
    "# Creat the path if it doesn't exist."
   ]
  },
  {
   "cell_type": "code",
   "execution_count": 27,
   "metadata": {},
   "outputs": [],
   "source": [
    "mix_path = 'C:\\\\Users\\\\Big data\\\\Desktop\\\\表特抓圖\\\\泱泱\\\\[正妹] 泱泱'"
   ]
  },
  {
   "cell_type": "code",
   "execution_count": 28,
   "metadata": {},
   "outputs": [],
   "source": [
    "pp = webdriver.Chrome(os.path.join(os.getcwd(),'chromedriver'))"
   ]
  },
  {
   "cell_type": "code",
   "execution_count": null,
   "metadata": {},
   "outputs": [],
   "source": [
    "for k in range(len(images)):\n",
    "    images_link = images[k]\n",
    "    pp.get(images_link)\n",
    "    photo = pp.find_element_by_css_selector('img')\n",
    "    photo.screenshot(os.path.join(mix_path,str(k)+'.png'))\n",
    "pp.quit()"
   ]
  },
  {
   "cell_type": "code",
   "execution_count": null,
   "metadata": {},
   "outputs": [],
   "source": []
  },
  {
   "cell_type": "code",
   "execution_count": null,
   "metadata": {},
   "outputs": [],
   "source": []
  },
  {
   "cell_type": "code",
   "execution_count": null,
   "metadata": {},
   "outputs": [],
   "source": [
    "author = base_data[0].text\n",
    "title = base_data[2].text\n",
    "post_time = base_data[3].text"
   ]
  },
  {
   "cell_type": "code",
   "execution_count": null,
   "metadata": {},
   "outputs": [],
   "source": []
  }
 ],
 "metadata": {
  "kernelspec": {
   "display_name": "Python 3",
   "language": "python",
   "name": "python3"
  },
  "language_info": {
   "codemirror_mode": {
    "name": "ipython",
    "version": 3
   },
   "file_extension": ".py",
   "mimetype": "text/x-python",
   "name": "python",
   "nbconvert_exporter": "python",
   "pygments_lexer": "ipython3",
   "version": "3.6.5"
  }
 },
 "nbformat": 4,
 "nbformat_minor": 2
}
