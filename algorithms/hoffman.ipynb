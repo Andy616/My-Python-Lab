{
 "cells": [
  {
   "cell_type": "markdown",
   "metadata": {},
   "source": [
    "# 霍夫曼編碼"
   ]
  },
  {
   "cell_type": "markdown",
   "metadata": {},
   "source": [
    "「霍夫曼樹又稱最優二元樹，是一種帶權路徑長度最短的二元樹。所謂樹的帶權路徑長度，就是樹中所有的葉結點的權值乘上其到根結點的路徑長度（若根結點爲0層，葉結點到根結點的路徑長度爲葉結點的層數）。樹的路徑長度是從樹根到每一結點的路徑長度之和，記爲WPL=（W1*L1+W2*L2+W3*L3+...+Wn*Ln），N個權值Wi（i=1,2,...n）構成一棵有N個葉結點的二元樹，相應的葉結點的路徑長度爲Li（i=1,2,...n）。可以證明霍夫曼樹的WPL是最小的。」  ---節錄自維基百科\n",
    "\n",
    "簡單的說，對文章進行壓縮編碼時，出現頻率越高的單字會越靠近根節點，也就是路徑長度越短，以最大化壓縮比例。"
   ]
  },
  {
   "cell_type": "code",
   "execution_count": null,
   "metadata": {},
   "outputs": [],
   "source": []
  },
  {
   "cell_type": "markdown",
   "metadata": {},
   "source": [
    "## 以下節錄維基百科中介紹的兩種實現方法:"
   ]
  },
  {
   "cell_type": "markdown",
   "metadata": {},
   "source": [
    "實現霍夫曼樹的方式有很多種，可以使用優先佇列（Priority Queue）簡單達成這個過程，給與權重較低的符號較高的優先順序（Priority），演算法如下：\n",
    "\n",
    "⒈把n個終端節點加入優先佇列，則n個節點都有一個優先權Pi，1 ≤ i ≤ n\n",
    "\n",
    "⒉如果佇列內的節點數>1，則：\n",
    "\n",
    "⑴從佇列中移除兩個最小的Pi節點，即連續做兩次remove（min（Pi）, Priority_Queue)\n",
    "⑵產生一個新節點，此節點為⑴之移除節點之父節點，而此節點的權重值為⑴兩節點之權重和\n",
    "⑶把⑵產生之節點加入優先佇列中\n",
    "⒊最後在優先佇列裡的點為樹的根節點（root）\n",
    "\n",
    "而此演算法的時間複雜度（ Time Complexity）為O（n log n）；因為有n個終端節點，所以樹總共有2n-1個節點，使用優先佇列每個迴圈須O（log n）。\n",
    "\n",
    "\n",
    "此外，有一個更快的方式使時間複雜度降至線性時間（Linear Time）O（n），就是使用兩個佇列（Queue）創件霍夫曼樹。第一個佇列用來儲存n個符號（即n個終端節點）的權重，第二個佇列用來儲存兩兩權重的合（即非終端節點）。此法可保證第二個佇列的前端（Front）權重永遠都是最小值，且方法如下：\n",
    "\n",
    "⒈把n個終端節點加入第一個佇列（依照權重大小排列，最小在前端）\n",
    "\n",
    "⒉如果佇列內的節點數>1，則：\n",
    "\n",
    "⑴從佇列前端移除兩個最低權重的節點\n",
    "⑵將⑴中移除的兩個節點權重相加合成一個新節點\n",
    "⑶加入第二個佇列\n",
    "⒊最後在第一個佇列的節點為根節點\n",
    "\n",
    "雖然使用此方法比使用優先佇列的時間複雜度還低，但是注意此法的第1項，節點必須依照權重大小加入佇列中，如果節點加入順序不按大小，則需要經過排序，則至少花了O（n log n）的時間複雜度計算。"
   ]
  },
  {
   "cell_type": "code",
   "execution_count": null,
   "metadata": {},
   "outputs": [],
   "source": []
  },
  {
   "cell_type": "markdown",
   "metadata": {},
   "source": [
    "## 在此採用其方法二並實踐:"
   ]
  },
  {
   "cell_type": "markdown",
   "metadata": {},
   "source": [
    "### 節點"
   ]
  },
  {
   "cell_type": "code",
   "execution_count": 1,
   "metadata": {},
   "outputs": [],
   "source": [
    "class _Node():\n",
    "    \n",
    "    def __init__(self, Lchild, Rchild):\n",
    "        # 定義節點屬性，包含左右子節點、權重以及密文。\n",
    "        # 其中權重即為各單字的出現頻率。\n",
    "        self.Lchild = Lchild\n",
    "        self.Rchild = Rchild\n",
    "        self.weight = Lchild.weight + Rchild.weight\n",
    "        self.code = b''"
   ]
  },
  {
   "cell_type": "markdown",
   "metadata": {},
   "source": [
    "### 葉節點"
   ]
  },
  {
   "cell_type": "code",
   "execution_count": 2,
   "metadata": {},
   "outputs": [],
   "source": [
    "class _Leaf():\n",
    "    \n",
    "    def __init__(self, data, weight):\n",
    "        # 定義葉節點的屬性，權重、單字以及密文。\n",
    "        self.weight = weight\n",
    "        self.data = data\n",
    "        self.code = None"
   ]
  },
  {
   "cell_type": "markdown",
   "metadata": {},
   "source": [
    "### 霍夫曼樹"
   ]
  },
  {
   "cell_type": "code",
   "execution_count": 3,
   "metadata": {},
   "outputs": [],
   "source": [
    "class huffman():\n",
    "    # 用法說明\n",
    "    '''  Encode:\n",
    "        >>> huff = huffman(String)\n",
    "        >>> encoded_string = huff.encoded_text\n",
    "        >>> decode_key = huff.decode_key\n",
    "        Decode:\n",
    "        >>> decode(decode_key, encoded_string)\n",
    "        '''\n",
    "    \n",
    "    # 定義霍夫曼樹的屬性，包含儲存節點、葉節點的串列，但使用上將其當作堆疊。\n",
    "    # 計算輸入的字串的詞頻，初始化葉節點並根據其權重建構出霍夫曼樹。\n",
    "    def __init__(self, text):\n",
    "        self.__leaf = []\n",
    "        self.__node = []\n",
    "        self.__word_count(text)\n",
    "        self.__init_leaf()\n",
    "        self.__grow()\n",
    "        self.__encode(text)\n",
    "    \n",
    "    # 計算輸入字串的詞頻\n",
    "    def __word_count(self, text):        \n",
    "        word_count_dict = dict()\n",
    "        for i in text:\n",
    "            if i in word_count_dict:\n",
    "                word_count_dict[i] += 1\n",
    "            else:\n",
    "                word_count_dict[i] = 1                \n",
    "        self.word_frequency =  sorted(list((word_count_dict.items())), key=lambda x: x[1])\n",
    "    \n",
    "    # 依據詞頻建構出葉節點，並將其放入堆疊。\n",
    "    def __init_leaf(self):\n",
    "        for i in self.word_frequency:\n",
    "            leaf = _Leaf(i[0], i[1])\n",
    "            self.__leaf.append(leaf)\n",
    "    \n",
    "    # 依據堆疊中的葉節點，逐步建構出各節點，最後生成霍夫曼樹。\n",
    "    def __grow(self):\n",
    "        \n",
    "#         只有一個葉節點時，其也為根節點。\n",
    "        if len(self.__leaf) == 1:\n",
    "            self.__root = self.__leaf[0]\n",
    "            self.__root.code = b'0'\n",
    "            \n",
    "        # 把n個終端節點加入第一個佇列（依照權重大小排列，最小在前端）\n",
    "        # ⒉如果佇列內的節點數>1，則：\n",
    "        #     ⑴從佇列前端移除兩個最低權重的節點\n",
    "        #     ⑵將⑴中移除的兩個節點權重相加合成一個新節點\n",
    "        #     ⑶加入第二個佇列\n",
    "        #⒊最後在第一個佇列的節點為根節點\n",
    "        else:\n",
    "            while len(self.__leaf) > 0 or len(self.__node) != 1:            \n",
    "                if self.__node != []:\n",
    "                    child1 = self.__leaf.pop(0) if len(self.__node) == 1 else self.__node.pop(0)\n",
    "                    child2 = self.__node.pop(0) if len(self.__leaf) == 0 or self.__node[0].weight <= self.__leaf[0].weight else self.__leaf.pop(0)                \n",
    "                    node = _Node(child1, child2) if child1.weight <= child2.weight else _Node(child2, child1)                    \n",
    "                else:                \n",
    "                    node = _Node(self.__leaf.pop(0), self.__leaf.pop(0)) \n",
    "                self.__node.append(node)\n",
    "            self.__root = self.__node[0]\n",
    "    \n",
    "    # 遍歷霍夫曼樹，產生密文與密鑰。\n",
    "    def __encode(self, text):\n",
    "        \n",
    "        encode_key = {}\n",
    "        self.encoded_text = b''\n",
    "        \n",
    "        # 定義遍歷方法，遍歷至葉節點即儲存密文與其相對應的密鑰。\n",
    "        def generate_key(node):\n",
    "            if type(node) != _Leaf:        \n",
    "                node.Lchild.code = node.code+b'0'\n",
    "                generate_key(node.Lchild)\n",
    "                node.Rchild.code = node.code+b'1'\n",
    "                generate_key(node.Rchild)\n",
    "            else:\n",
    "                encode_key[node.data.encode()] = node.code\n",
    "        generate_key(self.__root)\n",
    "        self.decode_key = dict(zip(encode_key.values(), encode_key.keys()))\n",
    "        \n",
    "        #將輸入的字串轉換成密文。\n",
    "        for i in text:\n",
    "            self.encoded_text += encode_key[i.encode()]"
   ]
  },
  {
   "cell_type": "code",
   "execution_count": 4,
   "metadata": {},
   "outputs": [],
   "source": [
    "def decode(decode_key, encoded_text):\n",
    "    # 依照密鑰將密文解密。\n",
    "    text = b''\n",
    "    code = ''\n",
    "    encoded_text = encoded_text.decode()\n",
    "    for i in encoded_text:\n",
    "        code += i\n",
    "        if code.encode() in decode_key:\n",
    "            text += decode_key[code.encode()]\n",
    "            code = ''\n",
    "    return text.decode()"
   ]
  },
  {
   "cell_type": "code",
   "execution_count": null,
   "metadata": {},
   "outputs": [],
   "source": []
  },
  {
   "cell_type": "markdown",
   "metadata": {},
   "source": [
    "## Demo"
   ]
  },
  {
   "cell_type": "markdown",
   "metadata": {},
   "source": [
    "#### 將\"to be or not to be\"進行霍夫曼編碼:"
   ]
  },
  {
   "cell_type": "code",
   "execution_count": 5,
   "metadata": {},
   "outputs": [],
   "source": [
    "h = huffman('to be or not to be')"
   ]
  },
  {
   "cell_type": "markdown",
   "metadata": {},
   "source": [
    "#### 詞頻:"
   ]
  },
  {
   "cell_type": "code",
   "execution_count": 6,
   "metadata": {},
   "outputs": [
    {
     "data": {
      "text/plain": [
       "[('r', 1), ('n', 1), ('b', 2), ('e', 2), ('t', 3), ('o', 4), (' ', 5)]"
      ]
     },
     "execution_count": 6,
     "metadata": {},
     "output_type": "execute_result"
    }
   ],
   "source": [
    "h.word_frequency"
   ]
  },
  {
   "cell_type": "markdown",
   "metadata": {},
   "source": [
    "#### 密鑰:"
   ]
  },
  {
   "cell_type": "code",
   "execution_count": 7,
   "metadata": {},
   "outputs": [
    {
     "data": {
      "text/plain": [
       "{b'000': b'b',\n",
       " b'0010': b'r',\n",
       " b'0011': b'n',\n",
       " b'01': b'o',\n",
       " b'100': b'e',\n",
       " b'101': b't',\n",
       " b'11': b' '}"
      ]
     },
     "execution_count": 7,
     "metadata": {},
     "output_type": "execute_result"
    }
   ],
   "source": [
    "h.decode_key"
   ]
  },
  {
   "cell_type": "markdown",
   "metadata": {},
   "source": [
    "#### 密文:"
   ]
  },
  {
   "cell_type": "code",
   "execution_count": 8,
   "metadata": {},
   "outputs": [
    {
     "data": {
      "text/plain": [
       "b'10101110001001101001011001101101111010111000100'"
      ]
     },
     "execution_count": 8,
     "metadata": {},
     "output_type": "execute_result"
    }
   ],
   "source": [
    "h.encoded_text"
   ]
  },
  {
   "cell_type": "markdown",
   "metadata": {},
   "source": [
    "#### 解密:"
   ]
  },
  {
   "cell_type": "code",
   "execution_count": 9,
   "metadata": {},
   "outputs": [
    {
     "data": {
      "text/plain": [
       "'to be or not to be'"
      ]
     },
     "execution_count": 9,
     "metadata": {},
     "output_type": "execute_result"
    }
   ],
   "source": [
    "decode(h.decode_key, h.encoded_text)"
   ]
  },
  {
   "cell_type": "code",
   "execution_count": null,
   "metadata": {},
   "outputs": [],
   "source": []
  },
  {
   "cell_type": "markdown",
   "metadata": {},
   "source": [
    "## 參考資料:\n",
    "\n",
    "維基百科:\n",
    "https://zh.wikipedia.org/wiki/%E9%9C%8D%E5%A4%AB%E6%9B%BC%E7%BC%96%E7%A0%81#%E6%BC%94%E7%AE%97%E9%81%8E%E7%A8%8B"
   ]
  }
 ],
 "metadata": {
  "kernelspec": {
   "display_name": "Python 3",
   "language": "python",
   "name": "python3"
  },
  "language_info": {
   "codemirror_mode": {
    "name": "ipython",
    "version": 3
   },
   "file_extension": ".py",
   "mimetype": "text/x-python",
   "name": "python",
   "nbconvert_exporter": "python",
   "pygments_lexer": "ipython3",
   "version": "3.7.4"
  }
 },
 "nbformat": 4,
 "nbformat_minor": 4
}
